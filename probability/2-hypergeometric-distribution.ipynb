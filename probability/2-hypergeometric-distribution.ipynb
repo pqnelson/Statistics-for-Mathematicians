{
 "metadata": {
  "name": "",
  "signature": "sha256:2832a57d399a5ffc110fddb7e744f01abeda49dc7e4e17774a4f3b0dde3a668b"
 },
 "nbformat": 3,
 "nbformat_minor": 0,
 "worksheets": [
  {
   "cells": [
    {
     "cell_type": "code",
     "collapsed": false,
     "input": [
      "%matplotlib inline\n",
      "\n",
      "import matplotlib\n",
      "import numpy as np\n",
      "import matplotlib.pyplot as plt"
     ],
     "language": "python",
     "metadata": {},
     "outputs": [],
     "prompt_number": 1
    },
    {
     "cell_type": "markdown",
     "metadata": {},
     "source": [
      "The **\"Hypergeometric Distribution\"** occurs in situations like:\n",
      "\n",
      "> Suppose we have $N$ balls, of which $k$ are red and $N-k$ are blue. We\n",
      "> draw a sample, without replacement, of $n$ balls. Let $X$ be the number\n",
      "> of red balls drawn in our sample of size $n$. What's the probability\n",
      "> $X=x$?\n",
      "\n",
      "We see\n",
      "\\begin{equation}\n",
      "\\Pr(X=x)=\\frac{\\begin{pmatrix}\\mbox{number of different}\\\\\n",
      "\\mbox{ways to choose}\\\\\n",
      "\\mbox{$x$ red balls}\n",
      "\\end{pmatrix}\n",
      "\\begin{pmatrix}\n",
      "\\mbox{number of different}\\\\\n",
      "\\mbox{ways to choose}\\\\\n",
      "\\mbox{$(n-x)$ blue balls}\n",
      "\\end{pmatrix}}{\\begin{pmatrix}\\mbox{number of different}\\\\\n",
      "\\mbox{samples drawn}\n",
      "  \\end{pmatrix}}\n",
      "\\end{equation}"
     ]
    },
    {
     "cell_type": "markdown",
     "metadata": {},
     "source": [
      "**Example.**\n",
      "We have 1000 widgets, of which an unknown number $D$ has defects. A\n",
      "sample of 100 has 2 with defects. The **\"Maximum Likelihood Estimate\"**\n",
      "for $D$ is the number which gives the highest probability for obtaining\n",
      "the number of defectives observed in a sample. Find that value of $D$.\n",
      "\n",
      "*Solution:*\n",
      "So we have $N=1000$ and instead of \"red balls\" we have \"defective\n",
      "Widgets\" $k=D$. The sample size is $n=100$. What's the value of $D$\n",
      "that makes the event most probable?\n",
      "\n",
      "Well, the distribution would be described by\n",
      "\\begin{equation}\n",
      "\\Pr(X=2)=\\frac{\\binom{D}{2}\\binom{1000-D}{100-2}}{\\binom{1000}{100}}\n",
      "\\end{equation}\n",
      "which algebraically reduces to\n",
      "\\begin{equation}\n",
      "\\Pr(X=2)=\\frac{D(D-1)}{2}\\frac{1}{100\\cdot999\\cdot(\\dots)\\cdot(1000-(D-1))}\n",
      "\\frac{900\\cdot(\\dots)\\cdot(902-(D-1))}{1}\\cdot100\\cdot99.\n",
      "\\end{equation}\n",
      "We can then write up a small program which will write out a table for\n",
      "values of $D$ and the corresponding probability.\n",
      "\n",
      "A small snippet reveals:\n",
      "```\n",
      "D=19, Pr(X=2) = 0.028804\n",
      "D=20, Pr(X=2) = 0.028807\n",
      "D=21, Pr(X=2) = 0.028655\n",
      "D=22, Pr(X=2) = 0.028366\n",
      "D=23, Pr(X=2) = 0.027954\n",
      "```\n",
      "which implies $D=20$ is the value which has the most probable outcome."
     ]
    },
    {
     "cell_type": "code",
     "collapsed": false,
     "input": [
      "import math\n",
      "\n",
      "E = 2.71828182845904523536028747135266249775724709369995\n",
      "PI = 3.14159265358979323846264338327950288\n",
      "\n",
      "# Stirling's approximation\n",
      "def factorial(n):\n",
      "    x = 1.0*n\n",
      "    return math.sqrt(2*math.pi*x)*math.pow(x/math.e,x)\n",
      "\n",
      "# return a*(a+1)*(...)*b\n",
      "def product(a, b):\n",
      "    if a>b:\n",
      "        return product(b,a)\n",
      "    else:\n",
      "        result = 1.0\n",
      "        for k in xrange(a,b+1):\n",
      "            result = result*k\n",
      "        return result\n",
      "\n",
      "# probability X = D\n",
      "def hypergeometricProbability(X):\n",
      "    c = 990.0\n",
      "    return c*(X*(X-1)*0.5) * product(902-X+1,900)/product(1000-X+1,1000)\n",
      "\n",
      "for D in xrange(19,24):\n",
      "    v = hypergeometricProbability(D)\n",
      "    print \"D=%d, Pr(X=2) = %f\\n\" % (D, v)"
     ],
     "language": "python",
     "metadata": {},
     "outputs": [
      {
       "output_type": "stream",
       "stream": "stdout",
       "text": [
        "D=19, Pr(X=2) = 0.028804\n",
        "\n",
        "D=20, Pr(X=2) = 0.028807\n",
        "\n",
        "D=21, Pr(X=2) = 0.028655\n",
        "\n",
        "D=22, Pr(X=2) = 0.028366\n",
        "\n",
        "D=23, Pr(X=2) = 0.027954\n",
        "\n"
       ]
      }
     ],
     "prompt_number": 8
    },
    {
     "cell_type": "code",
     "collapsed": false,
     "input": [
      "x = range(16,25)\n",
      "y = [hypergeometricProbability(point) for point in x]\n",
      "plt.plot(x, y, 'b', [20], [hypergeometricProbability(20)], 'ro')\n",
      "plt.title('Hypergeometric Distribution')\n",
      "plt.show()"
     ],
     "language": "python",
     "metadata": {},
     "outputs": [
      {
       "metadata": {},
       "output_type": "display_data",
       "png": "[encoded data removed]",
       "text": [
        "<matplotlib.figure.Figure at 0x7fc8858406d0>"
       ]
      }
     ],
     "prompt_number": 26
    },
    {
     "cell_type": "markdown",
     "metadata": {},
     "source": [
      "**Remark.**\n",
      "Observe the maximum likelihood is where the probability is maximum. (\"The peak of the mountain\".) It does not always coincide with the expected value. For skewed distributions, these two are different things. (In fact, we can define \"skewness\" as the difference between the two!) We'll discuss this more later.\n",
      "(End of Remark)"
     ]
    },
    {
     "cell_type": "markdown",
     "metadata": {},
     "source": [
      "**Example.**\n",
      "On an Island, 50 moose are captured and tagged. Six months later, 200\n",
      "moose are captured, of which 8 are tagged. Estimate the number of moose\n",
      "on the Island.\n",
      "\n",
      "*Solution:*\n",
      "So, this is a hypergeometric distribution, where the \"red balls\" are\n",
      "the tagged moose, we have a sample of 200 without replacement, and 8 of\n",
      "them are tagged. So we are trying to maximize the function\n",
      "\\begin{equation}\n",
      "h(N,50,200,8)=\\frac{\\binom{50}{8}\\binom{N-50}{200-8}}{\\binom{N}{200}}\n",
      "\\end{equation}\n",
      "by picking some $N$. After some algebra, we can rewrite this as\n",
      "\\begin{equation}\n",
      "\\begin{split}\n",
      "h(N,50,200,8)&=\\frac{50!}{42!}\\frac{1}{8!}\\frac{200!}{192!}\\frac{(N-50)!}{N!}\\frac{(N-200)!}{(N-242)!}\\\\\n",
      "&=C\\frac{(N-50)!}{N!}\\frac{(N-200)!}{(N-242)!}\n",
      "\\end{split}\n",
      "\\end{equation}\n",
      "where $C=1192725059258223539848800000$. \n",
      "We have $N\\geq242$. We write up a small program, listed below, to write\n",
      "out a table of probabilities. It's maximized when $N=1250$."
     ]
    },
    {
     "cell_type": "code",
     "collapsed": false,
     "input": [
      "def moosePopulation(N):\n",
      "    c = 1192725059258223539848800000.0\n",
      "    return c * product(N-200,N-241)/product(N-49,N)\n",
      "\n",
      "for N in xrange(1242, 1261):\n",
      "    v = moosePopulation(N)\n",
      "    print \"N=%d, h(N,50,200,8) = %.20f\" % (N,v)"
     ],
     "language": "python",
     "metadata": {},
     "outputs": [
      {
       "output_type": "stream",
       "stream": "stdout",
       "text": [
        "N=1242, h(N,50,200,8) = 0.15536197009880417519\n",
        "N=1243, h(N,50,200,8) = 0.15536896251935675139\n",
        "N=1244, h(N,50,200,8) = 0.15537494549729219395\n",
        "N=1245, h(N,50,200,8) = 0.15537992253230753503\n",
        "N=1246, h(N,50,200,8) = 0.15538389712952149768\n",
        "N=1247, h(N,50,200,8) = 0.15538687279931304164\n",
        "N=1248, h(N,50,200,8) = 0.15538885305716068630\n",
        "N=1249, h(N,50,200,8) = 0.15538984142348397088\n",
        "N=1250, h(N,50,200,8) = 0.15538984142348397088\n",
        "N=1251, h(N,50,200,8) = 0.15538885658698736725\n",
        "N=1252, h(N,50,200,8) = 0.15538689044828998820\n",
        "N=1253, h(N,50,200,8) = 0.15538394654600332090\n",
        "N=1254, h(N,50,200,8) = 0.15538002842289860839\n",
        "N=1255, h(N,50,200,8) = 0.15537513962575802418\n",
        "N=1256, h(N,50,200,8) = 0.15536928370522026799\n",
        "N=1257, h(N,50,200,8) = 0.15536246421563298936\n",
        "N=1258, h(N,50,200,8) = 0.15535468471490238018\n",
        "N=1259, h(N,50,200,8) = 0.15534594876434659749\n",
        "N=1260, h(N,50,200,8) = 0.15533625992854879772\n"
       ]
      }
     ],
     "prompt_number": 13
    },
    {
     "cell_type": "code",
     "collapsed": false,
     "input": [
      "x = range(200,5000,50)\n",
      "y = [moosePopulation(point) for point in x]\n",
      "plt.plot(x, y, 'b',[1247],[moosePopulation(1247)],'ro')\n",
      "plt.title('Moose Population')\n",
      "plt.show()"
     ],
     "language": "python",
     "metadata": {},
     "outputs": [
      {
       "metadata": {},
       "output_type": "display_data",
       "png": "[encoded data removed]",
       "text": [
        "<matplotlib.figure.Figure at 0x7fc885a77590>"
       ]
      }
     ],
     "prompt_number": 25
    },
    {
     "cell_type": "markdown",
     "metadata": {},
     "source": [
      "**Example.**\n",
      "Suppose that in a bushel of 550 apples there are 2% rotten ones. What\n",
      "is the probability that a random sample of 25 apples contains two\n",
      "rotten apples? Hint: Hypergeometric distribution.\n",
      "\n",
      "*Solution:*\n",
      "So, we have $N=550$ apples, of which $k=11$ are rotten. So we pick a\n",
      "sample $n=25$. What's the probability $x=2$ are rotten? It's given by\n",
      "\\begin{equation}\n",
      "\\Pr(\\mbox{2 rotten})=\\frac{\\binom{11}{2}\\binom{539}{23}}{\\binom{550}{25}}\n",
      "\\end{equation}\n",
      "We can compute this by hand, finding\n",
      "\\begin{equation}\n",
      "\\begin{split}\n",
      "\\Pr(\\mbox{2 rotten})\n",
      "&=\\frac{599494391824595575}{8092091399320955412}\\\\\n",
      "&\\approx 0.074083986\n",
      "\\end{split}\n",
      "\\end{equation}\n",
      "so the probability is roughly $7.4%$."
     ]
    }
   ],
   "metadata": {}
  }
 ]
}