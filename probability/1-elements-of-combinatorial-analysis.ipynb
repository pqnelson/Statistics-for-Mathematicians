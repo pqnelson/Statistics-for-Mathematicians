{
 "metadata": {
  "name": "",
  "signature": "sha256:8d4c39e4c9fda44e079a5962510f121e9cba852d44693045889777cb2bc4ff41"
 },
 "nbformat": 3,
 "nbformat_minor": 0,
 "worksheets": [
  {
   "cells": [
    {
     "cell_type": "heading",
     "level": 1,
     "metadata": {},
     "source": [
      "Elements of Combinatorial Analysis"
     ]
    },
    {
     "cell_type": "markdown",
     "metadata": {},
     "source": [
      "Probability amounts to calculate\n",
      "\\begin{equation}\n",
      "\\Pr(A)=\\frac{\\begin{pmatrix}\\mbox{number of}\\\\\n",
      "\\mbox{elements in $A$}\n",
      "  \\end{pmatrix}}{|\\Omega|}.\n",
      "\\end{equation}\n",
      "This is both a blessing and a curse: for we change probability into\n",
      "counting, yet counting can be difficult! We will review elements of\n",
      "combinatorics (\"the art of counting\")."
     ]
    },
    {
     "cell_type": "heading",
     "level": 2,
     "metadata": {},
     "source": [
      "Permutations"
     ]
    },
    {
     "cell_type": "markdown",
     "metadata": {},
     "source": [
      "Suppose we want to consider how many ways we can order $n$\n",
      "elements. What to do?\n",
      "\n",
      "We first say \"We have $n$ slots to fill with our $n$ elements.\" Then\n",
      "we pick some element, and note how many possible slots we may choose. We\n",
      "may pick any one of our $n$ slots. Then pick our second element, and we\n",
      "may place it in any of the remaining $(n-1)$ slots. We continue, and\n",
      "there are \n",
      "\\begin{equation}\n",
      "n(n-1)(n-2)(\\cdots)(1)=n!\n",
      "\\end{equation}\n",
      "different methods of ordering our $n$ elements. Thus there are $n!$\n",
      "different permutations."
     ]
    },
    {
     "cell_type": "markdown",
     "metadata": {},
     "source": [
      "**Convention:** We set $0!=1$. (End of Convention)"
     ]
    },
    {
     "cell_type": "markdown",
     "metadata": {},
     "source": [
      "Factorial grows quite rapidly. For example\n",
      "\\begin{align}\n",
      "3!&=6\\\\\n",
      "6!&=720\\\\\n",
      "12!&=479\\,001\\,600\n",
      "\\end{align}\n",
      "We may approximate it using **\"Stirling's Approximation\"**\n",
      "\\begin{equation}\n",
      "n!\\sim\\sqrt{2\\pi n}\\left(\\frac{n}{\\mathrm{e}}\\right)^{n}.\n",
      "\\end{equation}\n",
      "We may derive this from the Gamma function\n",
      "\\begin{equation}\n",
      "\\Gamma(x)=\\int^{\\infty}_{0}t^{x-1}\\mathrm{e}^{-t}\\,\\mathrm{d} t,\\qquad\\mbox{for\n",
      "}\\Re(x)>0.\n",
      "\\end{equation}\n",
      "We take $\\Gamma(n+1)$ and integrate by parts $n$ times, we find\n",
      "\\begin{equation}\n",
      "\\Gamma(n+1)=n!\n",
      "\\end{equation}\n",
      "for $n\\in\\mathbb{N}$.\n",
      "\n",
      "Integrating $\\Gamma(x+1)$ by parts merely once will give us the\n",
      "functional equation\n",
      "\\begin{equation}\n",
      "\\Gamma(x+1)=x\\Gamma(x).\n",
      "\\end{equation}\n",
      "Calculus students around the world prove everyday that\n",
      "\\begin{equation}\n",
      "\\Gamma(1/2)=\\sqrt{\\pi}\n",
      "\\end{equation}\n",
      "without ever realizing it!"
     ]
    },
    {
     "cell_type": "heading",
     "level": 2,
     "metadata": {},
     "source": [
      "Sampling"
     ]
    },
    {
     "cell_type": "markdown",
     "metadata": {},
     "source": [
      "Given some collection of elements (or a \"population\"), we would like\n",
      "to pick a finite number of elements (a \"sample\"). A population with\n",
      "$n$ elements $\\{a_{1},\\dots,a_{n}\\}$, any *ordered* arrangement of\n",
      "$r$ symbols $a_{j_{1}}$, ..., $a_{j_r}$ is an **\"Ordered Sample\n",
      "  of Size $r$\"** drawn from the population. Note when $r=n$, an ordered\n",
      "sample is just a permutation of the population.\n",
      "\n",
      "- **Sampling with Replacement:**\n",
      "  The elements are drawn from the entire population, so we may pick the\n",
      "  same element twice (or more).\n",
      "- **Sampling Without Replacement:**\n",
      "  Once we choose an element, we cannot pick it again. We reduce the\n",
      "  possible choices, and hence more limited than sampling with replacement.\n",
      "\n",
      "Choosing $r$ elements with replacement from a population of $n$ can be\n",
      "done in $n^{r}$ different ways. The proof is obvious: you have $r$\n",
      "choices, and each choice has $n$ possibilities. So there are \n",
      "\\begin{equation}\n",
      "\\underbrace{n\\cdot(\\cdots)\\cdot n}_{\\text{$r$ times}} = n^{r}\n",
      "\\end{equation}\n",
      "different ways to sample.\n",
      "\n",
      "How many different ways can we sample $r$ elements without replacement\n",
      "from a population with $n$ elements? "
     ]
    },
    {
     "cell_type": "markdown",
     "metadata": {},
     "source": [
      "Since ordering matters, we have\n",
      "\\begin{equation}\n",
      "n(n-1)(\\cdots)\\bigl(n-(r-1)\\bigr)=(n)_{r}\n",
      "\\end{equation}\n",
      "This defines the **\"Falling Factorial\"** $(n)_{r}$.\n",
      "\n",
      "How can we be certain about this? Well, for the first choice there are\n",
      "$n$ possibilities. The second has $(n-1)$ possibilities. The $k^{th}$\n",
      "has $(n-(k-1))$ possible choices. We then multiply these together to get\n",
      "the result."
     ]
    },
    {
     "cell_type": "markdown",
     "metadata": {},
     "source": [
      "**Theorem.**\n",
      "For a population with $n>1$ elements and a prescribed sample size $r\\leq n$,\n",
      "there exists $n^{r}$ different samples with replacement, and $(n)_{r}$\n",
      "samples without replacement.\n",
      "(End of Theorem)"
     ]
    },
    {
     "cell_type": "heading",
     "level": 2,
     "metadata": {},
     "source": [
      "Birthday Problem"
     ]
    },
    {
     "cell_type": "markdown",
     "metadata": {},
     "source": [
      "**Problem Statement.**\n",
      "How many people do we need in a room to make a favorable bet (i.e., a\n",
      "bet with probability of success greater than $1/2$) that 2 people in the\n",
      "room will have the same birthday?\n",
      "\n",
      "**Solution:**\n",
      "Let $r$ be the number of people in the room, we want to find it. We will\n",
      "compute the probability of no repetition in our data (i.e., the\n",
      "probability no one in the room shares a birthday). The population, for\n",
      "this example, is the 365 days of the year. \n",
      "\n",
      "Then\n",
      "\\begin{equation}\n",
      "p_{r} = \\frac{(365)_{r}}{365^{r}}\n",
      "\\end{equation}\n",
      "describes the probability that no one shares a birthday. We want to find\n",
      "the smallest $r$ such that $p_{r}<0.5$. This can be done by exhaustion,\n",
      "we find\n",
      "\\begin{equation}\n",
      "\\begin{split}\n",
      "p_{23} &=\n",
      "\\frac{36997978566217959340182499134166757044383351847256064}{75091883268515350125426207425223147563269805908203125}\\\\\n",
      "&\\approx 0.49270276\n",
      "\\end{split}\n",
      "\\end{equation}\n",
      "So only make this bet when there are at least 23 people in the room!"
     ]
    },
    {
     "cell_type": "heading",
     "level": 2,
     "metadata": {},
     "source": [
      "Binomial Coefficients"
     ]
    },
    {
     "cell_type": "markdown",
     "metadata": {},
     "source": [
      "How many samples of size $r$ exist in a population of $n$ elements,\n",
      "without regard to ordering? That is, how many ways can we choose $r$\n",
      "guys from $n$ elements? We count this using binomial coefficients\n",
      "\\begin{equation}\n",
      "\\binom{n}{r} = \\frac{n!}{r!(n-r)!}\n",
      "\\end{equation}\n",
      "and read it as \"$n$ choose $r$\". Why is this true? Great question: we\n",
      "have $(n)_r$ subpopulations, and $r!$ different orderings of each\n",
      "subpopulation, so we have\n",
      "\\begin{equation}\n",
      "\\binom{n}{r}=\\frac{(n)_{r}}{r!}.\n",
      "\\end{equation}\n",
      "But this is precisely what we have written!"
     ]
    },
    {
     "cell_type": "markdown",
     "metadata": {},
     "source": [
      "**Convention.**\n",
      "If $k\\geq n$, then\n",
      "\\begin{equation}\n",
      "\\binom{n}{k}=0.\n",
      "\\end{equation}"
     ]
    },
    {
     "cell_type": "markdown",
     "metadata": {},
     "source": [
      "**Theorem.**\n",
      "A population with $n$ elements has $\\binom{n}{r}$ different\n",
      "subpopulations of size $r\\leq n$."
     ]
    },
    {
     "cell_type": "markdown",
     "metadata": {},
     "source": [
      "<a id=\"thm:propertiesOfBinomialCoefficients\"></a>\n",
      "**Theorem (Properties of the Binomial Coefficients).**\n",
      "Let $0\\leq k\\leq n$. Then\n",
      "\n",
      "0. $\\displaystyle\\binom{n}{0}=\\binom{n}{n}=1$\n",
      "0. Symmetry $\\displaystyle\\binom{n}{k}=\\binom{n}{n-k}$\n",
      "0. Pascal's triangle $\\displaystyle\\binom{n}{k}+\\binom{n}{k+1}=\\binom{n+1}{k+1}$\n",
      "\n",
      "*Proof.* \n",
      "(1) We see by definition that\n",
      "\\begin{equation}\n",
      "\\binom{n}{0}=\\frac{n!}{(n-0)!0!}=\\frac{n!}{n!}=1,\n",
      "\\end{equation}\n",
      "and similarly\n",
      "\\begin{equation}\n",
      "\\binom{n}{n}=\\frac{n!}{(n-n)!n!}=\\frac{n!}{n!}=1.\n",
      "\\end{equation}\n",
      "That proves (1).\n",
      "\n",
      "(2) We see that\n",
      "\\begin{equation}\n",
      "\\binom{n}{k}=\\frac{n!}{(n-k)!k!}\n",
      "\\end{equation}\n",
      "and\n",
      "\\begin{equation}\n",
      "\\binom{n}{n-k}=\\frac{n!}{\\bigl(n-(n-k)\\bigr)!(n-k)!}=\\frac{n!}{k!(n-k)!}\n",
      "\\end{equation}\n",
      "Then setting equals to equals proves (2).\n",
      "\n",
      "(3) We recall the generating function for binomial coefficients is given by\n",
      "\\begin{equation}\n",
      "(1+x)^{n}=\\sum^{n}_{k=0}\\binom{n}{k}x^{k},\n",
      "\\end{equation}\n",
      "so\n",
      "\\begin{equation}\n",
      "(1+x)^{n+1}=\\sum^{n+1}_{k=0}\\binom{n+1}{k}x^{k}.\\tag{a}\n",
      "\\end{equation}\n",
      "But simple arithmetic also suggests\n",
      "\\begin{equation}\n",
      "\\begin{split}\n",
      "(1+x)^{n}(1+x)&=1\\cdot\\sum^{n}_{k=0}\\binom{n}{k}x^{k}+x\\sum^{n}_{k=0}\\binom{n}{k}x^{k}\\\\\n",
      "&=\\sum^{n}_{k=0}\\binom{n}{k}x^{k}+\\sum^{n}_{k=0}\\binom{n}{k}x^{k+1}.\n",
      "\\end{split}\n",
      "\\end{equation}\n",
      "We can rewrite this as\n",
      "\\begin{equation}\n",
      "(1+x)^{n}(1+x)=1+\\sum^{n}_{k=1}\\binom{n}{k}x^{k}+\\sum^{n}_{k=1}\\binom{n}{k-1}x^{k}+x^{n+1}\n",
      "\\end{equation}\n",
      "hence\n",
      "\\begin{equation}\n",
      "(1+x)^{n}(1+x)=1+\\sum^{n}_{k=1}\\left[\\binom{n}{k}+\\binom{n}{k-1}\\right]x^{k}+x^{n+1}\\tag{b}\n",
      "\\end{equation}\n",
      "and thus we conclude, setting Eq (a) equal\n",
      "to Eq (b), the coefficients of powers of\n",
      "$x$ must be equal. Thus\n",
      "\\begin{equation}\n",
      "\\binom{n+1}{k}=\\binom{n}{k}+\\binom{n}{k-1},\n",
      "\\end{equation}\n",
      "which implies (3).\n",
      "(End of Proof)"
     ]
    },
    {
     "cell_type": "markdown",
     "metadata": {},
     "source": [
      "**Corollary.**\n",
      "Let $n,k\\in\\mathbb{N}$, then\n",
      "\\begin{equation}\n",
      "\\binom{n}{-k}=0.\n",
      "\\end{equation}\n",
      "\n",
      "*Proof of Corollary.*\n",
      "By second statement of the previous theorem (the symmetry of $k$ and $n-k$), we have\n",
      "\\begin{equation}\n",
      "\\binom{n}{-k}=\\binom{n}{n+k}\n",
      "\\end{equation}\n",
      "Since $k>0$, our convention implies that\n",
      "\\begin{equation}\n",
      "\\binom{n}{n+k}=0\n",
      "\\end{equation}\n",
      "as desired.\n",
      "(End of Proof)"
     ]
    },
    {
     "cell_type": "markdown",
     "metadata": {},
     "source": [
      "**Exercise.**\n",
      "Prove $\\binom{n}{0}+\\binom{n}{1}+\\dots+\\binom{n}{n}=2^{n}$.\n",
      "(End of Exercise)"
     ]
    },
    {
     "cell_type": "markdown",
     "metadata": {},
     "source": [
      "**Example.**\n",
      "A deck of cards has 52 cards, a poker hand has 5 cards.\n",
      "How many different poker hands are there?\n",
      "\n",
      "*Solution:*\n",
      "We see there are\n",
      "\\begin{equation}\n",
      "\\binom{52}{5}=2\\,598\\,960\n",
      "\\end{equation}\n",
      "different poker hands."
     ]
    },
    {
     "cell_type": "markdown",
     "metadata": {},
     "source": [
      "**Example.**\n",
      "The US Senate has 100 Senators (a pair represents each state). If a\n",
      "committee is formed with 50 senators, then:\n",
      "\n",
      "(a) What's the probability a given state is represented?\n",
      "\n",
      "(b) What's the probability each state is represented?\n",
      "\n",
      "*Solution.*\n",
      "(a) Well, we first consider the *negation* of this statement: what's\n",
      "the probability not every state is represented? There are\n",
      "\\begin{equation}\n",
      "\\binom{98}{50} = d_{k}\n",
      "\\end{equation}\n",
      "ways to choose the committee so some state is not represented. But there\n",
      "is \n",
      "\\begin{equation}\n",
      "\\binom{100}{50}=n_{k}\n",
      "\\end{equation}\n",
      "different ways to choose the committee. Thus the probability a given state is\n",
      "not represented is\n",
      "\\begin{equation}\n",
      "q = \\frac{\\displaystyle\\binom{98}{50}}{\\displaystyle\\binom{100}{50}} = \\frac{49}{198}\\approx 0.24747\\dots\n",
      "\\end{equation}\n",
      "and hence the probability a given state is represented is\n",
      "\\begin{equation}\n",
      "1-q = \\frac{149}{198} \\approx 0.7525\\dots\n",
      "\\end{equation}\n",
      "That concludes the first question.\n",
      "\n",
      "(b)\n",
      "We pick one senator from each state. We have two possibilities for each\n",
      "state, and 50 states, hence we have $2^{50}$ possibilities. Thus we have\n",
      "\\begin{equation}\n",
      "p = \\frac{2^{50}}{\\displaystyle\\binom{100}{50}} \\approx 1.11\\times10^{-14}\n",
      "\\end{equation}\n",
      "is the probability every state is represented."
     ]
    },
    {
     "cell_type": "heading",
     "level": 2,
     "metadata": {},
     "source": [
      "Binomial Distribution"
     ]
    },
    {
     "cell_type": "markdown",
     "metadata": {},
     "source": [
      "**Example.**\n",
      "Consider a random distribution of $r$ balls in $n$ urns. Find the\n",
      "probability $p_{k}$ that a specified cell contains exactly $k$ balls.\n",
      "\n",
      "*Solution:*\n",
      "We want to find\n",
      "\\begin{equation}\n",
      "p_{k} = \\frac{\\begin{pmatrix}\n",
      "    \\mbox{Number of ways to}\\\\\n",
      "    \\mbox{choose $k$ balls from}\\\\\n",
      "    \\mbox{$r$ balls}\n",
      "  \\end{pmatrix}\n",
      "\\begin{pmatrix}\n",
      "  \\mbox{number of ways to}\\\\\n",
      "  \\mbox{put remaining $(r-k)$ balls}\\\\\n",
      "  \\mbox{in $(n-1)$ cells}\n",
      "\\end{pmatrix}}{\\begin{pmatrix}\\mbox{number of different}\\\\\n",
      "\\mbox{ways placing $r$}\\\\\n",
      "\\mbox{balls in $n$ cells}\n",
      "  \\end{pmatrix}}\n",
      "\\end{equation}\n",
      "There are $n^{r}$ different ways placing $r$ balls in $n$ cells. This\n",
      "gives us the denominator. We see that\n",
      "\\begin{equation}\n",
      "\\begin{pmatrix}\n",
      "    \\mbox{Number of ways to}\\\\\n",
      "    \\mbox{choose $k$ balls from}\\\\\n",
      "    \\mbox{$r$ balls}\n",
      "  \\end{pmatrix} = \\binom{r}{k}\n",
      "\\end{equation}\n",
      "and what of the remaining $(r-k)$ balls? They can be placed in the\n",
      "remaining cells in $(n-1)^{r-k}$ ways. Thus we plug this all back into\n",
      "our equation to find\n",
      "\\begin{equation}\n",
      "\\begin{split}\n",
      "p_{k}&=\\frac{\\displaystyle\\binom{r}{k}(n-1)^{r-k}}{n^{r}}\\\\\n",
      "&=\\binom{r}{k}\\frac{1}{n^{k}}\\left(1-\\frac{1}{n}\\right)^{r-k}.\n",
      "\\end{split}\n",
      "\\end{equation}\n",
      "This is an example of the famous *binomial distribution*, which\n",
      "we'll soon study."
     ]
    },
    {
     "cell_type": "markdown",
     "metadata": {},
     "source": [
      "**Example.**\n",
      "Suppose we toss a fair coin $n$ times. What's the probability we have\n",
      "$k$ heads?"
     ]
    },
    {
     "cell_type": "markdown",
     "metadata": {},
     "source": [
      "*Solution:*\n",
      "The basic solution we will propose will look like\n",
      "\\begin{equation}\n",
      "\\Pr(\\mbox{$k$ heads})=\\begin{pmatrix}\\mbox{number of}\\\\\n",
      "\\mbox{combinations}\n",
      "\\end{pmatrix}\n",
      "\\begin{pmatrix}\n",
      "\\mbox{probability of}\\\\\n",
      "\\mbox{one heads}\n",
      "\\end{pmatrix}^{k}\n",
      "\\begin{pmatrix}\n",
      "\\mbox{probability of}\\\\\n",
      "\\mbox{one tails}\n",
      "\\end{pmatrix}^{n-k}\n",
      "\\end{equation}\n",
      "We have a subpopulation of $k$ heads in a population with $n$\n",
      "elements. So\n",
      "\\begin{equation}\n",
      "\\begin{pmatrix}\\mbox{number of}\\\\\n",
      "\\mbox{combinations}\n",
      "\\end{pmatrix}=\\binom{n}{k}\n",
      "\\end{equation}\n",
      "and\n",
      "\\begin{equation}\n",
      "\\begin{pmatrix}\n",
      "\\mbox{probability of}\\\\\n",
      "\\mbox{one heads}\n",
      "\\end{pmatrix}=\n",
      "\\begin{pmatrix}\n",
      "\\mbox{probability of}\\\\\n",
      "\\mbox{one tails}\n",
      "\\end{pmatrix}=\\frac{1}{2}.\n",
      "\\end{equation}\n",
      "More generally, we will write\n",
      "\\begin{equation}\n",
      "p=\\begin{pmatrix}\n",
      "\\mbox{probability of}\\\\\n",
      "\\mbox{one heads}\n",
      "\\end{pmatrix},\\quad\\mbox{and}\\quad (1-p)=\\begin{pmatrix}\n",
      "\\mbox{probability of}\\\\\n",
      "\\mbox{one tails}\n",
      "\\end{pmatrix}.\n",
      "\\end{equation}\n",
      "So we conclude\n",
      "\\begin{equation}\n",
      "\\Pr(\\mbox{$k$ heads})=\\binom{n}{k}p^{k}(1-p)^{n-k}.\n",
      "\\end{equation}"
     ]
    },
    {
     "cell_type": "markdown",
     "metadata": {},
     "source": [
      "*Solution 2:*\n",
      "Let $p$ be the probability of success (heads), and $q$ the probability\n",
      "of failure (tails), for one trial. Then we consider the Binomial\n",
      "expansion of \n",
      "\\begin{equation}\n",
      "(p+q)^{n}=p^{n}+\\dots+\\binom{n}{k}p^{k}q^{n-k}+\\dots+q^{n}.\n",
      "\\end{equation}\n",
      "Each term represents one outcome, namely, the coefficient of $p^{k}$ is\n",
      "the outcome with $k$ successes. So\n",
      "\\begin{equation}\n",
      "\\Pr(\\mbox{$k$ heads})=\\binom{n}{k}p^{k}q^{n-k}.\n",
      "\\end{equation}\n",
      "Since the only outcomes are success or failure, we have\n",
      "\\begin{equation}\n",
      "p+q=1,\n",
      "\\end{equation}\n",
      "which implies $q=1-p$ and \"something must happen\". Thus we conclude\n",
      "\\begin{equation}\n",
      "\\Pr(\\mbox{$k$ heads})=\\binom{n}{k}p^{k}(1-p)^{n-k}\n",
      "\\end{equation}\n",
      "recovering our previous solution."
     ]
    },
    {
     "cell_type": "markdown",
     "metadata": {},
     "source": [
      "<a name=\"ex:studentGuessingOnExam\"></a>\n",
      "**Example.**\n",
      "In a ten-question true-false exam, find the probability that a student\n",
      "gets a grade of 70 percent or better by guessing. Answer the same\n",
      "question if the test has 30 questions.\n",
      "\n",
      "*Solution:*\n",
      "When there are 10 questions, the student needs to answer 7 correctly. If\n",
      "the student guesses on a true-false exam, the student has a probability\n",
      "of success $p=1/2$. Thus we see\n",
      "\\begin{equation}\n",
      "\\Pr(\\mbox{70% with 10 questions}) = \\binom{10}{7}2^{-10}=\\frac{15}{128}.\n",
      "\\end{equation}\n",
      "This is approximately $\\Pr(\\mbox{70% with 10q})\\approx 0.117$.\n",
      "\n",
      "If there were 30 questions, we see\n",
      "\\begin{equation}\n",
      "\\begin{split}\n",
      "\\Pr(\\mbox{70% with 30 questions}) &= \\binom{30}{21}2^{-30}\\\\\n",
      "&=\\frac{3\\cdot5^{2}\\cdot11^{2}\\cdot13\\cdot23\\cdot29}{2^{28}}\n",
      "\\end{split}\n",
      "\\end{equation}\n",
      "which is approximately $\\Pr(\\mbox{70% with 30q})\\approx 0.293$."
     ]
    },
    {
     "cell_type": "heading",
     "level": 2,
     "metadata": {},
     "source": [
      "Multinomial Coefficient"
     ]
    },
    {
     "cell_type": "markdown",
     "metadata": {},
     "source": [
      "Suppose we have a population with $n$ elements. How many different ways\n",
      "can we partition the population into subpopulations with $k_1$\n",
      "members, ..., $k_m$ members?"
     ]
    },
    {
     "cell_type": "markdown",
     "metadata": {},
     "source": [
      "**Exercise.**\n",
      "Prove that $k_1+\\dots+k_m=n$.\n",
      "(End of Exercise)"
     ]
    },
    {
     "cell_type": "markdown",
     "metadata": {},
     "source": [
      "We have the following number of such partitions:\n",
      "\\begin{equation}\n",
      "\\binom{n}{k_1,\\dots,k_m} = (k_1,\\dots,k_m)! = \\frac{(k_1+\\dots+k_m)!}{k_1!(\\dots)k_m!}\n",
      "\\end{equation}\n",
      "These quantities are called **\"Multinomial Coefficients\"**.\n",
      "The notation varies according to the text. "
     ]
    },
    {
     "cell_type": "heading",
     "level": 2,
     "metadata": {},
     "source": [
      "Hat Check Problem"
     ]
    },
    {
     "cell_type": "markdown",
     "metadata": {},
     "source": [
      "**Problem Statement.**\n",
      "At a restaurant, $n$ people check their hats.\n",
      "The hat checker completely loses track of who owns which hat, and begins\n",
      "handing the hats randomly to the owners. What's the probability no one\n",
      "receives their hat back?"
     ]
    },
    {
     "cell_type": "markdown",
     "metadata": {},
     "source": [
      "*Sketch of Solution.*\n",
      "We really want to consider the permutations\n",
      "\\begin{equation}\n",
      "\\sigma = \\begin{pmatrix} 1 & 2 & 3 & \\dots & n\\\\\n",
      "a_1 & a_2 & a_3 & \\dots & a_N\n",
      "\\end{pmatrix}\n",
      "\\end{equation}\n",
      "such that there are *no fixed points* (i.e., $a_{k}\\neq k$ for\n",
      "every $k$)."
     ]
    },
    {
     "cell_type": "markdown",
     "metadata": {},
     "source": [
      "**Solution.**\n",
      "Let $A_{i}$ be the event the $i^{th}$ element is fixed. Then \n",
      "\\begin{equation}\n",
      "A_1\\cup A_2\\cup\\dots A_n = \\begin{pmatrix}\\mbox{event there exists}\\\\\n",
      "\\mbox{at least one}\\\\\n",
      "\\mbox{fixed point}\n",
      "\\end{pmatrix}\n",
      "\\end{equation}\n",
      "then\n",
      "\\begin{equation}\n",
      "\\Pr(\\mbox{no fixed pt}) = 1-\\Pr(A_1\\cup A_2\\cup\\dots A_n).\n",
      "\\end{equation}\n",
      "We just have to compute $\\Pr(A_1\\cup A_2\\cup\\dots A_n)$. What to do? Use\n",
      "inclusion-exclusion!"
     ]
    },
    {
     "cell_type": "markdown",
     "metadata": {},
     "source": [
      "So we consider the event $A_{i}$. The permutation would look like\n",
      "\\begin{equation}\n",
      "\\begin{pmatrix}\n",
      "1 & 2 & 3 & \\dots & i & \\dots & n\\\\\n",
      "  &   &   & \\dots & i & \\dots &  \\\\\n",
      "\\end{pmatrix}\n",
      "\\end{equation}\n",
      "where the blank entries are arbitrary (we don't care where they go). How\n",
      "many different such permutations are there? Well, it's as though we\n",
      "permute the $(n-1)$ elements other than $i$, so there are $(n-1)!$ such\n",
      "permutations. The probability of this event is then\n",
      "\\begin{equation}\n",
      "\\Pr(A_{i}) = \\frac{(n-1)!}{n!} = \\frac{1}{n}.\n",
      "\\end{equation}\n",
      "There are $n$ such events (since we can let $i=1,\\dots,n$). Thus\n",
      "\\begin{equation}\n",
      "\\sum^{n}_{i=1}\\Pr(A_{i}) = n\\cdot\\frac{1}{n}=1.\n",
      "\\end{equation}\n",
      "Wonderful."
     ]
    },
    {
     "cell_type": "markdown",
     "metadata": {},
     "source": [
      "Consider the event $A_i\\cap A_j$, which has the permutation\n",
      "\\begin{equation}\n",
      "\\begin{pmatrix}\n",
      "1 & 2 & \\dots & i & \\dots & j & \\dots & n\\\\\n",
      "  &   & \\dots & i & \\dots & j & \\dots &  \\\\\n",
      "\\end{pmatrix}\n",
      "\\end{equation}\n",
      "How many such permutations are there? Well, we fix two points while\n",
      "permuting the others, so there are $(n-2)!$ such permutations. Thus the\n",
      "probability is\n",
      "\\begin{equation}\n",
      "\\Pr(A_{i}\\cap A_{j}) = \\frac{(n-2)!}{n!}=\\frac{1}{n(n-1)}\n",
      "\\end{equation}\n",
      "How many such \"fix two point\" events are there? It's simply\n",
      "\\begin{equation}\n",
      "\\binom{n}{2}=\\frac{n(n-1)}{2}\n",
      "\\end{equation}\n",
      "thus\n",
      "\\begin{equation}\n",
      "\\sum_{1\\leq i<j\\leq n} \\Pr(A_{i}\\cap A_{j})\n",
      "= \\frac{n(n-1)}{2}\\cdot\\frac{1}{n(n-1)}=\\frac{1}{2}.\n",
      "\\end{equation}\n",
      "This will be our second term."
     ]
    },
    {
     "cell_type": "markdown",
     "metadata": {},
     "source": [
      "Consider the event $A_i\\cap A_j\\cap A_k$. We see\n",
      "\\begin{equation}\n",
      "\\Pr(A_i\\cap A_j\\cap A_k) = \\frac{(n-3)!}{n!}=\\frac{1}{n(n-1)(n-2)}.\n",
      "\\end{equation}\n",
      "There are $\\binom{n}{3}$ such terms. Thus\n",
      "\\begin{equation}\n",
      "\\sum_{1\\leq i<j<k\\leq n}\\Pr(A_i\\cap A_j\\cap A_k)=\\frac{1}{3!}\n",
      "\\end{equation}\n",
      "and inductively we find\n",
      "\\begin{equation}\n",
      "\\Pr(A_1\\cap\\dots\\cap A_n)=\\frac{1}{n!}\n",
      "\\end{equation}\n",
      "Thus\n",
      "\\begin{equation}\n",
      "\\Pr(\\mbox{no fixed pt}) = \\frac{1}{2}\n",
      "- \\frac{1}{3!}+\\frac{1}{4!}+\\dots+\\frac{(-1)^{n}}{n!}\n",
      "\\end{equation}\n",
      "We should note the Taylor series for $\\mathrm{e}^{x}$ is\n",
      "\\begin{equation}\n",
      "\\mathrm{e}^{x}=1+x+\\frac{x^{2}}{2!}+\\dots+\\frac{x^{n}}{n!}+\\dots\n",
      "\\end{equation}\n",
      "so\n",
      "\\begin{equation}\n",
      "\\mathrm{e}^{-1}=1-1+\\frac{(-1)^{2}}{2!}+\\dots+\\frac{(-1)^{n}}{n!}+\\dots\n",
      "\\end{equation}\n",
      "implies\n",
      "\\begin{equation}\n",
      "\\Pr(\\mbox{no fixed pt})\\to\\mathrm{e}^{-1}\n",
      "\\end{equation}\n",
      "as $n\\to\\infty$.\n",
      "\n",
      "We will construct a table, let $p_{n}$ be the probability there are no\n",
      "fixed points among permutations of $n$ elements. Then:\n",
      "\\begin{equation}\n",
      "\\begin{split}\n",
      "p_2 &= \\frac{1}{2} \\approx 0.5\\\\\n",
      "p_3 &= \\frac{1}{3} \\approx 0.33333334\\\\\n",
      "p_4 &= \\frac{3}{8} \\approx 0.375\\\\\n",
      "p_5 &= \\frac{11}{30} \\approx 0.36666667\\\\\n",
      "p_6 &= \\frac{53}{144} \\approx 0.36805555\\\\ \n",
      "p_7 &= \\frac{103}{280} \\approx 0.36785713\\\\ \n",
      "p_8 &= \\frac{2119}{5760} \\approx 0.36788195\\\\ \n",
      "p_9 &= \\frac{16687}{45360} \\approx 0.36787918\n",
      "\\end{split}\n",
      "\\end{equation}\n",
      "We should note that $1/\\mathrm{e}\\approx 0.36787944117144233$, so we are getting\n",
      "a decent approximation with $n=8$ (five digits!)."
     ]
    }
   ],
   "metadata": {}
  }
 ]
}