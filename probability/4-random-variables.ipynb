{
 "metadata": {
  "name": "",
  "signature": "sha256:2ad57d3c17a0b42fd785841667f6497e7e601ab7b9762c4aacc401b9259a62d8"
 },
 "nbformat": 3,
 "nbformat_minor": 0,
 "worksheets": [
  {
   "cells": [
    {
     "cell_type": "code",
     "collapsed": false,
     "input": [
      "%matplotlib inline\n",
      "\n",
      "import matplotlib\n",
      "import numpy as np\n",
      "import matplotlib.pyplot as plt"
     ],
     "language": "python",
     "metadata": {},
     "outputs": [],
     "prompt_number": 1
    },
    {
     "cell_type": "markdown",
     "metadata": {},
     "source": [
      "In an election, 50 people vote. We describe all the outcomes in a sample\n",
      "space $\\Omega$, but don't we have a valid question \"How many\n",
      "voted 'yes'?\"? \n",
      "\n",
      "How can we answer such a question? *Count the number of 'yes'-es!*\n",
      "This is done with a map\n",
      "\\begin{equation}\n",
      "Y\\colon\\Omega\\to\\mathbb{N}_{0}.\n",
      "\\end{equation}\n",
      "But what is this mapping? The number of 'yes'-es, which depends on the\n",
      "event. It's a *random variable!*\n",
      "\n",
      "Note that we can extend the codomain from $\\mathbb{N}_0$ to $\\mathbb{Z}$, $\\mathbb{Q}$, or\n",
      "$\\mathbb{R}$. For the sake of generality, we will consider $\\mathbb{R}$. (We can sometimes include $+\\infty$, or $-\\infty$, if necessary.)"
     ]
    },
    {
     "cell_type": "markdown",
     "metadata": {},
     "source": [
      "**Definition.**\n",
      "Let $(\\Omega,\\mathcal{F},\\Pr)$ be a probability space. We define a\n",
      "**\"Random Variable\"** to be a function $X\\colon\\Omega\\to\\mathbb{R}$\n",
      "such that for each $x\\in\\mathbb{R}$ we have the set\n",
      "\\begin{equation}\n",
      "W = \\{ \\omega\\in\\Omega : X(\\omega)\\leq x\\}\n",
      "\\end{equation}\n",
      "be an element of $\\mathcal{F}$, or in symbols $W\\in\\mathcal{F}$. \n",
      "Such a function $X$ is said to be $\\mathcal{F}$-measurable.\n",
      "(End of Definition)"
     ]
    },
    {
     "cell_type": "markdown",
     "metadata": {},
     "source": [
      "**Definition.**\n",
      "The **\"Distribution Function\"** of a random variable $X$ is the function $F\\colon\\mathbb{R}\\to[0,1]$ given by\n",
      "$$F(x) = \\Pr(X\\leq x) = \\Pr\\left(\\{ \\omega\\in\\Omega : X(\\omega)\\leq x\\}\\right).$$\n",
      "(End of Definition)"
     ]
    },
    {
     "cell_type": "markdown",
     "metadata": {},
     "source": [
      "**Remarks.**\n",
      "(1) The reason for the $\\{\\omega\\in\\Omega : X(\\omega)\\leq x\\}\\in\\mathcal{F}$ condition is so we may talk about the probability of this event. (Recall events we assign probabilities must live in $\\mathcal{F}$)\n",
      "\n",
      "(2) $\\Pr(X\\leq x)$ is shorthand for $\\Pr\\left(\\{ \\omega\\in\\Omega : X(\\omega)\\leq x\\}\\right)$\n",
      "\n",
      "(3) The intuition behind a random variable should be *it represents the results of an experiment or trial.* For this reason, we will often consider which distribution the random variable \"looks like\". E.g., if we are \"flipping a coin\" (considering a trial that's success or fail), we have our random variable \"look like\" a Bernoulli distribution. We indicate this writing $X\\sim B(1,p)$ where $p$ is the probability of success.\n",
      "(End of Remarks)"
     ]
    },
    {
     "cell_type": "heading",
     "level": 2,
     "metadata": {},
     "source": [
      "Examples of Random Variables"
     ]
    },
    {
     "cell_type": "markdown",
     "metadata": {},
     "source": [
      "**Examples.**\n",
      "Lets give a grocery list of examples.\n",
      "\n",
      "0. Toss a coin $N$ times, let $H$ be the number of heads.\n",
      "0. Choose a random point on $\\mathbb{R}^{n}$, let $D$ be the distance from\n",
      "the point to the origin.\n",
      "0. Take a random person from a class, let $X$ be the student's\n",
      "height.\n",
      "0. Let $W$ be the value of the DOW stock index at closing.\n",
      "\n",
      "(End of Examples)"
     ]
    },
    {
     "cell_type": "markdown",
     "metadata": {},
     "source": [
      "**Example 1.**\n",
      "Consider $X(\\omega)=c$ for all $\\omega\\in\\Omega$. We see its distribution function is\n",
      "$$ F(x) = \\Pr(X\\leq x) = \\begin{cases}\n",
      "0 & x<c\\\\\n",
      "1 & x\\geq c\n",
      "\\end{cases}$$\n",
      "It appears to be just a [step function](https://en.wikipedia.org/wiki/Heaviside_step_function)."
     ]
    },
    {
     "cell_type": "markdown",
     "metadata": {},
     "source": [
      "**Example 2 (Bernoulli Random Variable).**\n",
      "Let $\\Omega=\\{H,T\\}$, and $X(H)=1$, $X(T)=0$. (This is called a **\"Bernoulli Random Variable\"**) The distribution function is\n",
      "$$\n",
      "F(x) = \\Pr(X\\leq x) = \\begin{cases}\n",
      "0   & x\\lt0\\\\\n",
      "1-p & 0\\leq x\\lt 1\\\\\n",
      "1   & x\\geq 1\n",
      "\\end{cases}\n",
      "$$\n",
      "where $p$ is the probability of heads."
     ]
    },
    {
     "cell_type": "markdown",
     "metadata": {},
     "source": [
      "**Example 3.**\n",
      "Let $\\Omega$ denote all outcomes of $n$ tosses of a coin. For $k=1, 2,\\dots, n$,\n",
      "$$\n",
      "X_{k}(\\omega) = \\begin{cases}\n",
      "1 & \\mbox{if $k^{th}$ toss is $H$}\\\\\n",
      "0 & \\mbox{if $k^{th}$ toss is $T$}\n",
      "\\end{cases}\n",
      "$$\n",
      "We define\n",
      "$$\n",
      "S_{n}(\\omega) = X_{1}(\\omega) + X_{2}(\\omega) +\\dots + X_{n}(\\omega)\n",
      "$$\n",
      "which describes the number of heads in $n$ tosses.\n",
      "\n",
      "*Exercise.* What is the distribution function for $S_{n}(\\omega)$?"
     ]
    },
    {
     "cell_type": "markdown",
     "metadata": {},
     "source": [
      "**Example 4 (Indicator Functions).**\n",
      "Let $A$ be an event. We define\n",
      "$$\n",
      "I_{A}(\\omega) = \\begin{cases}\n",
      "1 & \\mbox{if }\\omega\\in A\\\\\n",
      "0 & \\mbox{otherwise}\n",
      "\\end{cases}\n",
      "$$\n",
      "This is a Bernoulli random variable with $p=\\Pr(A)$."
     ]
    },
    {
     "cell_type": "markdown",
     "metadata": {},
     "source": [
      "**Lemma.**\n",
      "Let $F$ be the distribution function of $X$. Then\n",
      "\n",
      "0. $\\Pr(X\\gt x)=1-F(x)$;\n",
      "0. $\\Pr(x\\lt X\\leq y) = F(y)-F(x)$;\n",
      "0. $\\Pr(X=x) = F(x) - \\lim_{y\\uparrow x}F(y)$,\n",
      "   and $F$ is right continuous, i.e., $F(x+h)\\to F(x)$ as $h\\downarrow0$ \"makes sense\";\n",
      "0. As $x\\to+\\infty$, $F(x)\\to1$, and $F(-x)\\to0$\n",
      "\n",
      "*Proof.* (1) The event\n",
      "$$\\{X\\leq x\\}^{\\complement} = \\{X>x\\}$$\n",
      "so\n",
      "$$\\Pr(\\{X\\leq x\\}^{\\complement}) = 1-\\Pr(\\{X>x\\}) = 1-F(x)$$\n",
      "\n",
      "(2) The events $\\{X\\leq x\\}$ and $\\{x\\lt X\\leq y\\}$ are disjoint. Therefore\n",
      "$$\\Pr(\\{X\\leq x\\}\\cup \\{x\\lt X\\leq y\\}) = \\Pr(\\{X\\leq x\\})+\\Pr(\\{x\\lt X\\leq y\\})$$\n",
      "But we also see\n",
      "$$\\{X\\leq x\\}\\cup \\{x\\lt X\\leq y\\}=\\{X\\leq y\\}$$\n",
      "Therefore we have\n",
      "$$\\Pr(X\\leq y) = \\Pr(X\\leq x) + \\Pr(x\\lt X\\leq y)$$\n",
      "or in other words\n",
      "$$\\Pr(x\\lt X\\leq y) = F(y) - F(x)$$\n",
      "\n",
      "(4) Let $B_{n} = \\{X\\leq-n\\}$. Observe $B_{1}\\supseteq B_{2}\\supseteq B_{3}\\supseteq\\dots$ is a decreasing sequence, i.e.,\n",
      "$$\n",
      "\\lim_{n\\to\\infty}B_{n} = \\bigcap^{\\infty}_{n=1}\\{X\\leq-n\\} = \\emptyset\n",
      "$$\n",
      "Then $\\Pr(B_{n})=F(-n)$ and\n",
      "$$\n",
      "\\lim_{n\\to\\infty}\\Pr(B_{n})=\\Pr(\\emptyset)=0\n",
      "$$\n",
      "proves as $x\\to-\\infty$, $F(x)\\to0$.\n",
      "\n",
      "Let $A_{n} = \\{X\\gt  n\\}$. We see $A_{1}\\supseteq A_{2}\\supseteq A_{3}\\supseteq\\dots$ and $\\bigcap A_{n}=\\emptyset$. We see\n",
      "$$\n",
      "\\lim_{n\\to\\infty}\\Pr(A_{n})=\\Pr(\\emptyset)=0\n",
      "$$\n",
      "and $\\bigcap A_{n}=\\{X>\\infty\\}$. Thus $\\Pr(X\\leq\\infty)=1$, proving as $x\\to+\\infty$ that $F(x)\\to1$.\n",
      "\n",
      "(3) Let $\\{h_{n}\\}$ be any decreasing sequence converging to 0. We will show $F(x+h_{n})\\to F(x)$ as $n\\to\\infty$. We see\n",
      "$$ X\\leq x+h_{n+1}\\leq x+h_{n}$$\n",
      "since $h_{n+1}\\leq h_{n}$. Hence if $A_{n}=\\{X\\leq x+h_{n}\\}$ we have a decreasing sequence since $A_{n+1}\\subseteq A_{n}$, hence $A_{1}\\supseteq A_{2}\\supseteq A_{3}\\supseteq\\dots$. We use the same trick as before, we have\n",
      "$$\\Pr(\\bigcap A_{n}) = \\lim_{n\\to\\infty}\\Pr(A_{n}) = \\lim_{h\\downarrow0}F(x+h)$$\n",
      "but since $\\bigcap A_{n}=\\{X\\leq x\\}$ we see\n",
      "$$\\Pr(\\bigcap A_{n}) = F(x).$$\n",
      "Setting equals to equals we deduce\n",
      "$$\\lim_{h\\downarrow0}F(x+h) = F(x).$$\n",
      "Using the same trick for $B_{n} = \\{ x - (1/n)\\lt X\\leq x\\}$, we can prove $\\Pr(X=x)=F(x) - \\lim_{y\\uparrow x}F(y)$.\n",
      "(End of Proof)"
     ]
    },
    {
     "cell_type": "heading",
     "level": 2,
     "metadata": {},
     "source": [
      "Coin Tossing & Law of Averages"
     ]
    },
    {
     "cell_type": "markdown",
     "metadata": {},
     "source": [
      "Toss a coin repeatedly, assume the tosses are *independent*, and heads occurs with probability $p$. Let\n",
      "$$\n",
      "X_{j}(\\omega) = \\begin{cases}\n",
      "1 & \\mbox{if heads on $j^{th}$ toss}\\\\\n",
      "0 & \\mbox{otherwise}\n",
      "\\end{cases}\n",
      "$$\n",
      "Define\n",
      "$$\n",
      "S_{n}(\\omega) = \\sum^{n}_{j=1}X_{j}(\\omega) = \\mbox{number of heads in first $n$ tosses}.\n",
      "$$\n",
      "Intuitively we expect\n",
      "$$\n",
      "\\frac{S_{n}}{n} = \\mbox{Average number of heads in $n$ tosses}\n",
      "$$\n",
      "to be approximately $p$ (or close to it) for large $n$."
     ]
    },
    {
     "cell_type": "markdown",
     "metadata": {},
     "source": [
      "**Theorem.**\n",
      "$$\\Pr(S_{n}=k) = \\binom{n}{k}p^{k}(1-p)^{n-k}$$\n",
      "\n",
      "*Proof.*\n",
      "Consider an *elementary* event in which there are $k$ heads and $n-k$ tails, i.e., one particular history $HTHT\\dots TTTHT$ with $k$ heads and $n-k$ tails. Since the coin tossing is independent, the probability of such an event is $p^{k}(1-p)^{n-k}$.\n",
      "\n",
      "How many such elemnentary events have $k$ heads in $n$ tosses? This is the same as asking how to choose $k$ objects from $n$ objects, i.e., $\\binom{n}{k}$. Hence\n",
      "$$\\Pr(S_{n}=k) = \\binom{n}{k}p^{k}(1-p)^{n-k}$$\n",
      "(End of Proof)"
     ]
    },
    {
     "cell_type": "markdown",
     "metadata": {},
     "source": [
      "**Theorem.**\n",
      "Let $\\varepsilon\\gt0$, then as $n\\to\\infty$ we have\n",
      "$$\n",
      "\\Pr(p-\\varepsilon\\leq\\frac{S_{n}}{n}\\leq p+\\varepsilon)\\to1\n",
      "$$\n",
      "(End of Theorem)\n",
      "\n",
      "The proof will be to show, when $S_{n}/n$ is outside this interval $[p-\\varepsilon,p+\\varepsilon]$, its probability vanishes as $n\\to\\infty$.\n",
      "\n",
      "We must prove two lemmas before proving the theorem."
     ]
    },
    {
     "cell_type": "markdown",
     "metadata": {},
     "source": [
      "**Lemma 1.**\n",
      "Let $\\lambda\\gt 0$ be arbitrary, $q=1-p$, and $\\varepsilon\\gt0$.\n",
      "We have $\\Pr(s_{n}/n\\geq p+\\varepsilon)\\leq \\mathrm{e}^{-\\lambda n\\varepsilon}(p\\mathrm{e}^{\\lambda q}+q\\mathrm{e}^{-\\lambda p})^{n}$.\n",
      "\n",
      "*Proof of Lemma 1.*\n",
      "We first of all define\n",
      "\\begin{equation}\n",
      "m = \\lceil n(p+\\varepsilon)\\rceil\n",
      "\\end{equation}\n",
      "to be the smallest integer greater than $n(p+\\varepsilon)$.\n",
      "We see\n",
      "\\begin{align}\n",
      "\\Pr(S_{n}/n\\geq p+\\varepsilon) &= \\sum_{k\\geq n(p+\\varepsilon)}\\Pr(S_{n}=k)\\\\\n",
      "&=\\sum^{n}_{k=m}\\binom{n}{k}p^{k}(1-p)^{n-k}\\\\\n",
      "&=\\sum^{n}_{k=m}\\binom{n}{k}p^{k}q^{n-k}.\n",
      "\\end{align}\n",
      "Since $\\mathrm{e}^{x}$ is an increasing function of $x$, we have\n",
      "\\begin{equation}\n",
      "\\mathrm{e}^{\\lambda k}\\geq \\mathrm{e}^{\\lambda n(p+\\varepsilon)}\\implies \\mathrm{e}^{\\lambda[k-n(p+\\varepsilon)]}\\geq0\n",
      "\\end{equation}\n",
      "if $k\\geq m$. We can thus find a bound\n",
      "\\begin{equation}\n",
      "\\Pr(S_{n}/n\\geq p+\\varepsilon)\\leq\\sum^{n}_{k=m}\\mathrm{e}^{\\lambda[k-n(p+\\varepsilon)]}\\binom{n}{k}p^{k}q^{n-k}.\n",
      "\\end{equation}\n",
      "Rewriting the right hand side, and adding more (positive) terms (starting the sum at $k=0$), we find\n",
      "\\begin{equation}\n",
      "\\Pr(S_{n}/n\\geq p+\\varepsilon)\\leq \\mathrm{e}^{-\\lambda n\\varepsilon}\\sum^{n}_{k=0}\\binom{n}{k}(p\\mathrm{e}^{\\lambda q})^{k}(q\\mathrm{e}^{-\\lambda p})^{n-k}.\\tag{*}\n",
      "\\end{equation}\n",
      "Note\n",
      "\\begin{align}\n",
      "\\mathrm{e}^{\\lambda(k-n(p+\\varepsilon))} \n",
      "&=\\mathrm{e}^{\\lambda(1-p)k + \\lambda pk - \\lambda n p}\\\\\n",
      "&=(\\mathrm{e}^{\\lambda q})^{k}(\\mathrm{e}^{-\\lambda p})^{n-k}\n",
      "\\end{align}\n",
      "We can now evaluate the sum on the right hand side of (&#42;) using the Binomial theorem\n",
      "\\begin{equation}\n",
      "\\sum^{n}_{k=0}\\binom{n}{k}x^{k}y^{n-k} = (x+y)^{n}\n",
      "\\end{equation}\n",
      "setting $x=p\\exp(\\lambda q)$ and $y=q\\exp(-\\lambda p)$, we have\n",
      "\\begin{equation}\n",
      "\\Pr(S_{n}/n\\geq p+\\varepsilon)\\leq\\mathrm{e}^{-\\lambda n\\varepsilon}(p\\mathrm{e}^{\\lambda q} + q\\mathrm{e}^{\\lambda p})^{n}\n",
      "\\end{equation}\n",
      "precisely as desired.\n",
      "(End of Proof of Lemma 1)"
     ]
    },
    {
     "cell_type": "markdown",
     "metadata": {},
     "source": [
      "**Lemma 2.**\n",
      "We have $\\mathrm{e}^{x}\\leq x + \\mathrm{e}^{x^{2}}$\n",
      "\n",
      "(The proof boils down to examining the Taylor polynomial for $x + \\exp(x^{2}) - \\exp(x)$ and seeing, when we include the remainder term, it's always positive for all $x$.)\n",
      "\n",
      "*Proof of Lemma 2.*\n",
      "Let $f(x) = x + \\exp(x^{2}) - \\exp(x)$. Then $f'(x) = 1 + 2x\\exp(x^{2})-\\exp(x)$, so $f'(0)=0$, and\n",
      "\\begin{align}\n",
      "f''(x) &= 2\\mathrm{e}^{x^{2}} + 4x^{2}\\mathrm{e}^{x^{2}}-\\mathrm{e}^{x}\\\\\n",
      "&= (2+ 4x^{2})\\mathrm{e}^{x^{2}}-\\mathrm{e}^{x}\\\\\n",
      "&= \\mathrm{e}^{x}[(2+ 4x^{2})\\mathrm{e}^{x^{2}-x}-1]\n",
      "\\end{align}\n",
      "We see $\\mathrm{e}^{x^{2}-x}$ has a minimum at $x=1/2$, so\n",
      "\\begin{align}\n",
      "f''(x) &=  \\mathrm{e}^{x}[(2+ 4x^{2})\\mathrm{e}^{x^{2}-x}-1]\\\\\n",
      "&\\geq \\mathrm{e}^{x}[(2+ 4x^{2})\\mathrm{e}^{-1/4}-1]\\\\\n",
      "&\\geq 1[2\\mathrm{e}^{-1/4}-1]\\geq0\n",
      "\\end{align}\n",
      "since $\\mathrm{e}^{x}[(2+ 4x^{2})\\mathrm{e}^{-1/4}-1]$ has a minimum at $x=0$.\n",
      "\n",
      "Thus we see $f''(x)\\geq0$. Hence by [Taylor's Remainder Theorem](https://en.wikipedia.org/wiki/Taylor%27s_theorem) we have\n",
      "\\begin{align}\n",
      "f(x) &= f(0) + f'(0)x + \\frac{f''(t)}{2}x^{2}\\\\\n",
      "&= \\frac{f''(t)}{2}x^{2}\n",
      "\\end{align}\n",
      "for some positive $t\\lt x$, since $f(0)=f'(0)=0$. But $f''(t)\\geq0$ and $x^{2}\\geq0$, hence\n",
      "$f(x)\\geq0$ for all $x$, proving the lemma.\n",
      "(End of Proof of Lemma 2)"
     ]
    },
    {
     "cell_type": "markdown",
     "metadata": {},
     "source": [
      "*Proof of Theorem.*\n",
      "We take the results of lemma 1 and plug it into lemma 2.\n",
      "\\begin{equation}\n",
      "p\\mathrm{e}^{\\lambda q}+q\\mathrm{e}^{\\lambda p}\n",
      "\\leq p[\\lambda q + \\mathrm{e}^{\\lambda^{2}q^{2}}] + q[-\\lambda p + \\mathrm{e}^{\\lambda^{2}p^{2}}]\n",
      "\\end{equation}\n",
      "which simplifies to\n",
      "\\begin{equation}\n",
      "p\\mathrm{e}^{\\lambda q}+q\\mathrm{e}^{\\lambda p}\n",
      "\\leq p\\mathrm{e}^{\\lambda^{2}q^{2}} + q\\mathrm{e}^{\\lambda^{2}p^{2}}.\n",
      "\\end{equation}\n",
      "Thus from lemma 1, we find\n",
      "\\begin{equation}\n",
      "\\Pr(S_{n}/n\\geq p+\\varepsilon)\\leq\\mathrm{e}^{-\\lambda n\\varepsilon}(p\\mathrm{e}^{\\lambda^{2}q^{2}} + q\\mathrm{e}^{\\lambda^{2}p^{2}})^{n}.\n",
      "\\end{equation}\n",
      "Since $p\\lt 1$ and $q\\lt 1$, we have\n",
      "\\begin{equation}\n",
      "p\\mathrm{e}^{\\lambda^{2}q^{2}}+q\\mathrm{e}^{\\lambda^{2}p^{2}}\\leq p\\mathrm{e}^{\\lambda^{2}} + q\\mathrm{e}^{\\lambda^{2}}\n",
      "\\end{equation}\n",
      "hence\n",
      "\\begin{equation}\n",
      "\\Pr(S_{n}/n\\geq p+\\varepsilon)\\leq\\exp(\\lambda^{2}n - \\lambda n\\varepsilon).\n",
      "\\end{equation}\n",
      "Now $\\lambda\\gt0$ was arbitrary. We just pick $\\lambda$ so the right hand side is a minimum.\n",
      "\n",
      "We see, if $f(\\lambda)=\\lambda^{2}n - \\lambda n\\varepsilon$ that $f'(\\lambda)=2\\lambda n-n\\varepsilon$ vanishes for $\\lambda=\\varepsilon/2$. We further see $f''(\\lambda)=2n$, so $f''(\\varepsilon/2)\\gt0$. Hence $\\lambda=\\varepsilon/2$ minimizes $f(\\lambda)$.\n",
      "\n",
      "Hence\n",
      "\\begin{equation}\n",
      "\\Pr(S_{n}/n\\geq p+\\varepsilon) \\leq \\exp(-n\\varepsilon^{2}/4)\n",
      "\\end{equation}\n",
      "as desired. We then find\n",
      "\\begin{equation}\n",
      "\\lim_{n\\to\\infty}\\Pr(S_{n}/n\\geq p+\\varepsilon) \\leq \\lim_{n\\to\\infty}\\exp(-n\\varepsilon^{2}/4)=0\n",
      "\\end{equation}\n",
      "It is an exercise to show in a similar way\n",
      "\\begin{equation}\n",
      "\\lim_{n\\to\\infty}\\Pr(S_{n}/n\\leq p-\\varepsilon)=0\n",
      "\\end{equation}\n",
      "which would conclude the proof for our theorem.\n",
      "(End of Proof)\n",
      "\n",
      "**Exercise.**\n",
      "Prove, for arbitrary $\\varepsilon\\gt0$,\n",
      "\\begin{equation}\n",
      "\\Pr(S_{n}/n\\leq p-\\varepsilon)\\leq \\exp(-n\\varepsilon^{2}/4)\n",
      "\\end{equation}"
     ]
    },
    {
     "cell_type": "heading",
     "level": 2,
     "metadata": {},
     "source": [
      "Discrete and Continuous Random Variables"
     ]
    },
    {
     "cell_type": "markdown",
     "metadata": {},
     "source": [
      "**Definition.**\n",
      "A random variable $X$ is called **\"Discrete\"** if it takes values in some countable subset $\\{x_{1}, x_{2}, x_{3}, \\dots\\}\\subset\\mathbb{R}$ only. The discrete random variable $X$ has **\"Probability Mass Function\"** $f\\colon\\mathbb{R}\\to[0,1]$ given by $f(x) = \\Pr(X=x)$.\n",
      "(End of Definition)"
     ]
    },
    {
     "cell_type": "markdown",
     "metadata": {},
     "source": [
      "**Definition.**\n",
      "The random variable $X$ is called **\"Continuous\"** if its distribution function can be expressed as\n",
      "$$\n",
      "F(x) = \\int^{x}_{-\\infty}f(u)\\,\\mathrm{d}u\n",
      "$$\n",
      "for some integrable $f\\colon\\mathbb{R}\\to[0,\\infty)$ called the **\"Probability Density Function\"** of $X$.\n",
      "(End of Definition)"
     ]
    },
    {
     "cell_type": "markdown",
     "metadata": {},
     "source": [
      "**Remark.**\n",
      "There is a third type of random variable. The \"Continuous\" version here is called *\"Absolutely Continuous\"* and the new type is called *\"Singular Continuous\"* (c.f., [Wikipedia](https://en.wikipedia.org/wiki/Singular_distribution)).  These singular continuous ones occur on fractals or the [Devil's staircase](https://en.wikipedia.org/wiki/Singular_function).\n",
      "(End of Remark)"
     ]
    },
    {
     "cell_type": "markdown",
     "metadata": {},
     "source": [
      "**Example.**\n",
      "So far, all the examples we have discussed are discrete random variables. (Flipping a coin, number of heads in $n$ flips, etc.)\n",
      "(End of Example)"
     ]
    },
    {
     "cell_type": "markdown",
     "metadata": {},
     "source": [
      "**Example 2 (Gaussian).**\n",
      "Consider the random variable with its distribution function\n",
      "$$ F_{X}(x) = \\frac{1}{\\sqrt{2\\pi}}\\int^{x}_{-\\infty}\\exp(-u^{2}/2)\\,\\mathrm{d}u$$\n",
      "This is the **\"Gaussian Distribution\"** or *\"Normal Distribution\"*.\n",
      "(End of Example)"
     ]
    },
    {
     "cell_type": "code",
     "collapsed": false,
     "input": [
      "def GaussianDensity(x):\n",
      "    return np.exp(-0.5*x*x)/np.sqrt(2.0*np.pi)\n",
      "\n",
      "x = np.linspace(-4.0, 4.0, 50)\n",
      "plt.plot(x, GaussianDensity(x))\n",
      "plt.title('Normal Distribution')\n",
      "plt.show()"
     ],
     "language": "python",
     "metadata": {},
     "outputs": [
      {
       "metadata": {},
       "output_type": "display_data",
       "png": "[encoded data removed]",
       "text": [
        "<matplotlib.figure.Figure at 0x7f4d50d5ced0>"
       ]
      }
     ],
     "prompt_number": 10
    },
    {
     "cell_type": "markdown",
     "metadata": {},
     "source": [
      "**Example 3 (Uniform Distribution).**\n",
      "Consider the distribution given by density\n",
      "$$\n",
      "f(x) = \\begin{cases}\n",
      "0 & x\\lt a\\\\\n",
      "\\frac{1}{b-a} & a\\leq x\\leq b\\\\\n",
      "0 & x\\gt b\n",
      "\\end{cases}\n",
      "$$\n",
      "Its distribution function would be\n",
      "$$\n",
      "F(x) = \\begin{cases}\n",
      "0 & x\\lt a\\\\\n",
      "\\frac{x-a}{b-a} & a\\leq x\\leq b\\\\\n",
      "1 & x\\gt b\n",
      "\\end{cases}\n",
      "$$\n",
      "This is the uniform distribution.\n",
      "(End of Example)"
     ]
    },
    {
     "cell_type": "code",
     "collapsed": false,
     "input": [
      "def UniformDistribution(x, a, b):\n",
      "    if a<=x and x<= b:\n",
      "        return (x-a)/(b-a)\n",
      "    else:\n",
      "        return 0.0\n",
      "\n",
      "x = np.linspace(-1.0, 4.0, 500)\n",
      "plt.plot(x, [UniformDistribution(x[i],0.0,3.0) for i in range(len(x))])\n",
      "plt.title('Uniform Distribution')\n",
      "plt.show()"
     ],
     "language": "python",
     "metadata": {},
     "outputs": [
      {
       "metadata": {},
       "output_type": "display_data",
       "png": "[encoded data removed]",
       "text": [
        "<matplotlib.figure.Figure at 0x7f4d50b59350>"
       ]
      }
     ],
     "prompt_number": 21
    },
    {
     "cell_type": "heading",
     "level": 3,
     "metadata": {},
     "source": [
      "Discrete Random Variables"
     ]
    },
    {
     "cell_type": "markdown",
     "metadata": {},
     "source": [
      "We will first study discrete random variables, though most of what we deduce will carry over for continuous random variables."
     ]
    },
    {
     "cell_type": "markdown",
     "metadata": {},
     "source": [
      "**Basis Random Variables.**\n",
      "One common tactic we'll use, for discrete random varaibles, is to write a random variable $X$ in terms of unit random variables and values. That is, if $X$ has value $\\{x_1,\\dots\\}$ on the sets $\\{A_{x_{1}},\\dots\\}$, then we have\n",
      "$$X = \\sum_{x} xI_{A_{x}}$$\n",
      "where $I_{A_{x}}$ is the indicator function for $A_{x}$. We have $\\Pr(I_{A_{x}})=\\Pr(X=x)$.\n",
      "This is analogous to basis vectors in linear algebra."
     ]
    },
    {
     "cell_type": "markdown",
     "metadata": {},
     "source": [
      "**Example 1.**\n",
      "A random variable $X\\colon\\Omega\\to\\{0,1,2,\\dots,n\\}$ is said to have a **\"Binomial Distribution\"** if\n",
      "$$P(X=k)=\\binom{n}{k}p^{k}(1-p)^{n-k}$$\n",
      "for $0\\lt p\\lt1$. Thus a sum of Bernoulli random variables $S_{n}=X_{1}+\\dots+X_{n}$ has a binomial distribution."
     ]
    },
    {
     "cell_type": "heading",
     "level": 4,
     "metadata": {},
     "source": [
      "Poisson Distribution"
     ]
    },
    {
     "cell_type": "markdown",
     "metadata": {},
     "source": [
      "**Derivation.**\n",
      "Consider the binomial distribution\n",
      "\\begin{equation}\n",
      "b(n,p) = \\binom{n}{k}p^{k}(1-p)^{n-k}.\n",
      "\\end{equation}\n",
      "We take $\\lambda=np$ to be the \"intensity\". Then we can re-write the\n",
      "distribution as\n",
      "\\begin{align}\n",
      "b(n,p) &= \\frac{n!}{k!(n-k)!}\\left(\\frac{\\lambda}{n}\\right)^{k}\n",
      "\\left(1-\\frac{\\lambda}{n}\\right)^{n-k}\\\\\n",
      "&=\\left[\\frac{n-(k-1)}{n}(\\cdots)\\frac{n-(k-k)}{n}\\right]\\frac{\\lambda^{k}}{k!}\\left(1-\\frac{\\lambda}{n}\\right)^{n}\\left[\\left(1-\\frac{\\lambda}{n}\\right)^{-k}\\right]\\\\\n",
      "&=\\left[\\left(1-\\frac{(k-1)}{n}\\right)(\\cdots)\\left(1-\\frac{(k-k)}{n}\\right)\\right]\\nonumber\\\\\n",
      "&\\phantom{=}\\quad\\times\\frac{\\lambda^{k}}{k!}\\left(1-\\frac{\\lambda}{n}\\right)^{n}\\left[\\left(1-\\frac{\\lambda}{n}\\right)^{-k}\\right].\n",
      "\\end{align}\n",
      "Now we take the limit $n\\to\\infty$ while fixing $k$:\n",
      "\\begin{align}\n",
      "\\lim_{n\\to\\infty}b(n,p)&=\\lim_{n\\to\\infty}\\left[\\left(1-\\frac{(k-1)}{n}\\right)(\\cdots)\\left(1-\\frac{(k-k)}{n}\\right)\\right]\\frac{\\lambda^{k}}{k!}\\left(1-\\frac{\\lambda}{n}\\right)^{n}\\left[\\left(1-\\frac{\\lambda}{n}\\right)^{-k}\\right]\\nonumber\\\\\n",
      "&=[1]\\frac{\\lambda^{k}}{k!}\\mathrm{e}^{-\\lambda}[1].\n",
      "\\end{align}\n",
      "This gives us the **\"Poisson distribution\"** which has its principal mass function be\n",
      "\\begin{equation}\n",
      "f(k,\\lambda)=\\frac{\\lambda^{k}}{k!}\\mathrm{e}^{-\\lambda}.\n",
      "\\end{equation}"
     ]
    },
    {
     "cell_type": "markdown",
     "metadata": {},
     "source": [
      "**Exercise.**\n",
      "Consider the sample space $\\Omega=\\mathbb{N}_{0}$ obtained by the Poisson\n",
      "process. Calculate $\\Pr(\\Omega)$.\n",
      "\n",
      "*Solution:* \n",
      "We see that\n",
      "\\begin{equation}\n",
      "\\Pr(\\Omega)\n",
      "= \\sum_{k=0}^{\\infty}\\frac{\\mathrm{e}^{-\\lambda}\\lambda^{k}}{k!}\n",
      "\\end{equation}\n",
      "but we can rearrange factors, and find\n",
      "\\begin{equation}\n",
      "\\Pr(\\Omega)\n",
      "= \\mathrm{e}^{-\\lambda}\\sum^{\\infty}_{k=0}\\frac{\\lambda^{k}}{k!}=\\mathrm{e}^{-\\lambda}\\mathrm{e}^{\\lambda}=1.\n",
      "\\end{equation}\n",
      "Thus, in the $\\mathrm{Poi}(k,\\lambda)$, the factor $\\mathrm{e}^{-\\lambda}$ is a\n",
      "normalization constant. "
     ]
    },
    {
     "cell_type": "markdown",
     "metadata": {},
     "source": [
      "**Interpretation.**\n",
      "We interpret $\\lambda$ as the number of events in some unit of time. The\n",
      "parameter $k$ indicates the number of events we wonder about (i.e., we\n",
      "ask \"What's the probability $k$ events will happen?\"). "
     ]
    },
    {
     "cell_type": "markdown",
     "metadata": {},
     "source": [
      "**Example.**\n",
      "Airlines find that passangers who make reservations fail to appear with\n",
      "probability $1/10$, independent of other passangers. Acme Airlines sell\n",
      "10 tickets for their 9 seat airplane, and 20 tickets for their 18 seat\n",
      "plane. Which plane is often over-booked?"
     ]
    },
    {
     "cell_type": "markdown",
     "metadata": {},
     "source": [
      "*Solution One:*\n",
      "Lets write\n",
      "\\begin{equation}\n",
      "f(n,k)=\\binom{n}{k}\\left(\\frac{1}{10}\\right)^{k}\\left(1-\\frac{1}{10}\\right)^{n-k}\n",
      "\\end{equation}\n",
      "for the probability $k$ people with reservations don't appear. We see\n",
      "the probability the smaller plane is overbooked occurs only when all 10\n",
      "people appear, which has probability\n",
      "\\begin{equation}\n",
      "f(10,0)=\\left(\\frac{9}{10}\\right)^{10}=0.3486784401.\\tag{1}\n",
      "\\end{equation}\n",
      "The larger plane is overbooked when 19 or 20 people appear, which occurs\n",
      "with probability\n",
      "\\begin{equation}\n",
      "f(20,0)+f(20,1)\n",
      "=20\\frac{1}{10}\\left(\\frac{9}{10}\\right)^{19}+\\left(\\frac{9}{10}\\right)^{20}\n",
      "\\end{equation}\n",
      "or, numerically,\n",
      "\\begin{equation}\n",
      "f(20,0)+f(20,1)\\approx0.39174699812516770581.\\tag{2}\n",
      "\\end{equation}\n",
      "We see the larger plane gets overbooked a tad more often than the\n",
      "smaller plane."
     ]
    },
    {
     "cell_type": "markdown",
     "metadata": {},
     "source": [
      "*Solution Two:*\n",
      "Using the Poisson distribution, we will count the number of passangers\n",
      "that are absent as the \"intensity\". So\n",
      "$\\lambda_{s}=n\\cdot1/10$ or $\\lambda_{s}=1$. We see\n",
      "\\begin{equation}\n",
      "\\Pr{}_{\\lambda_{s}}(k)=\\frac{\\mathrm{e}^{-1}}{k!}\n",
      "\\end{equation}\n",
      "and we get overbooked for\n",
      "\\begin{equation}\n",
      "\\Pr{}_{\\lambda_{s}}(0)=\\mathrm{e}^{-1}\\approx 0.36787944\n",
      "\\end{equation}\n",
      "which is within 2% of Eq (1).\n",
      "\n",
      "But for the larger plane, we see $\\lambda_{l}=2$ is the intensity of\n",
      "absent people, so\n",
      "\\begin{equation}\n",
      "\\Pr{}_{\\lambda_{l}}(0)=\\mathrm{e}^{-2}\n",
      "\\end{equation}\n",
      "and\n",
      "\\begin{equation}\n",
      "\\Pr{}_{\\lambda_{l}}(1)=2\\mathrm{e}^{-2}\n",
      "\\end{equation}\n",
      "thus\n",
      "\\begin{equation}\n",
      "\\Pr{}_{\\lambda_{l}}(19)+\n",
      "\\Pr{}_{\\lambda_{l}}(20)=3\\mathrm{e}^{-2}\\approx 0.4060058\n",
      "\\end{equation}\n",
      "which is within 1.5% of Eq (2).\n",
      "We see these approximations are quite good!"
     ]
    },
    {
     "cell_type": "markdown",
     "metadata": {},
     "source": [
      "**Definition.**\n",
      "A discrete random variable $X\\colon\\Omega\\to\\mathbb{N}_{0}$ has **\"Poisson Distribution with parameter $\\lambda$\"** if \n",
      "$$\\Pr(X=k)=\\frac{\\lambda^{k}}{k!}\\mathrm{e}^{-\\lambda}$$"
     ]
    },
    {
     "cell_type": "heading",
     "level": 3,
     "metadata": {},
     "source": [
      "Independent Random Variables"
     ]
    },
    {
     "cell_type": "markdown",
     "metadata": {},
     "source": [
      "**Definition.**\n",
      "The discrete random variables $X$ and $Y$ are said to be **\"Independent\"** if the events $\\{X=x\\}$ and $\\{Y=y\\}$ are independent events for all $x$, $y$, i.e.,\n",
      "$$\\Pr(X=x,Y=y)=\\Pr(X=x)\\Pr(Y=y)$$\n",
      "for all $x,y$.\n",
      "(End of definition)"
     ]
    },
    {
     "cell_type": "markdown",
     "metadata": {},
     "source": [
      "**Example 1.**\n",
      "A coin is tossed once and heads turns up with probability $p$. Let $X$ and $Y$ be the numbers of heads and tails, respectively. Then $X$ and $Y$ are *not* independent, since\n",
      "$$\\Pr(X=Y=1)=0$$\n",
      "but\n",
      "$$\\Pr(X=1)\\Pr(Y=1)=p(1-p).$$"
     ]
    },
    {
     "cell_type": "markdown",
     "metadata": {},
     "source": [
      "**Example 2.**\n",
      "Suppose a coin is tossed a random number $N$ of times, where $N$ has the Poisson distribution. Let $X$ and $Y$ denote the number of heads and tails, respectively. We claim (surprisingly) that $X$ and $Y$ are independent.\n",
      "\n",
      "We introduce\n",
      "$$S_{N} = X_{1}(\\omega) + X_{2}(\\omega) + \\dots + X_{N(\\omega)}(\\omega)$$\n",
      "where, don't forget, $N$ is a random variable.\n",
      "\n",
      "We first compute the joint probability\n",
      "\\begin{align}\n",
      "\\Pr(X=x,Y=y) &= \\Pr(X=x,Y=y|N=x+y)\\Pr(N=x+y)\\\\\n",
      "&=\\binom{x+y}{x}p^{x}(1-p)^{y}\\frac{\\lambda^{x+y}}{(x+y)!}\\mathrm{e}^{-\\lambda}\\\\\n",
      "&=\\frac{(\\lambda p)^{x}}{x!}\\frac{(\\lambda q)^{y}}{y!}\\mathrm{e}^{-\\lambda}\n",
      "\\end{align}\n",
      "where $q=1-p$.\n",
      "\n",
      "We compute the probabilities for $X=x$ and $Y=y$. First, we find\n",
      "\\begin{align}\n",
      "\\Pr(X=x) &= \\sum_{n\\geq x}\\Pr(X=x|N=n)\\Pr(N=n)\\\\\n",
      "&=\\sum_{n\\geq x}\\binom{n}{x}p^{x}q^{n-x}\\cdot\\frac{\\lambda^{n}}{n!}\\mathrm{e}^{-\\lambda}\\\\\n",
      "&=\\sum_{n\\geq x}\\frac{n!}{x!(n-x)!}p^{x}q^{n-x}\\cdot\\frac{\\lambda^{n}}{n!}\\mathrm{e}^{-\\lambda}\\\\\n",
      "&=\\mathrm{e}^{-\\lambda}\\frac{p^{x}}{x!}\\sum_{n\\geq x}\\frac{q^{n-x}\\lambda^{n-x}\\lambda^{x}}{(n-x)!}\\\\\n",
      "&=\\mathrm{e}^{-\\lambda}\\frac{(\\lambda p)^{x}}{x!}\\sum_{n\\geq x}\\frac{(\\lambda q)^{n-x}}{(n-x)!}\\\\\n",
      "&=\\mathrm{e}^{-\\lambda}\\frac{(\\lambda p)^{x}}{x!}\\sum_{n=0}\\frac{(\\lambda q)^{n}}{(n)!}\\\\\n",
      "&=\\mathrm{e}^{-\\lambda}\\frac{(\\lambda p)^{x}}{x!}\\mathrm{e}^{\\lambda q}=\\frac{(\\lambda p)^{x}}{x!}\\mathrm{e}^{-\\lambda p}\n",
      "\\end{align}\n",
      "Similar reasoning presents us with\n",
      "$$\\Pr(Y=y) = \\frac{(\\lambda q)^{y}}{y!}\\mathrm{e}^{-\\lambda q}$$\n",
      "Thus\n",
      "\\begin{equation}\n",
      "\\Pr(X=x)\\Pr(Y=y)=\\frac{(\\lambda p)^{x}}{x!}\\frac{(\\lambda q)^{y}}{y!}\\mathrm{e}^{-\\lambda}\n",
      "\\end{equation}\n",
      "which agrees with the joint probability exactly."
     ]
    },
    {
     "cell_type": "markdown",
     "metadata": {},
     "source": [
      "**Proposition.**\n",
      "A probability mass function $p$ satisfies:\n",
      "\n",
      "0. For any $i$, $p(x_{i})>0$\n",
      "0. For any interval $B$, $\\Pr(X\\in B)=\\sum_{x_{i}\\in B}p(x_{i})$\n",
      "0. We have $\\sum_{i}p(x_{i})=1$.\n",
      "\n",
      "(End of Proposition)"
     ]
    },
    {
     "cell_type": "markdown",
     "metadata": {},
     "source": [
      "**Example.**\n",
      "Let $X$ be the number of heads in 2 fair coin tosses. What is its\n",
      "probability mass function?\n",
      "\n",
      "*Solution:*\n",
      "We see there are three outcomes: 0, 1, 2. We also see\n",
      "that $\\Pr(X=0)=1/4$ and $\\Pr(X=2)=1/4$. Thus $\\Pr(X=1)=1/2$. This gives\n",
      "us the probability mass function.\n",
      "(End of Example)"
     ]
    },
    {
     "cell_type": "markdown",
     "metadata": {},
     "source": [
      "**Example.**\n",
      "An urn contains 20 slips of paper numbered 1, ..., 20. We select 5 at\n",
      "random, without replacement. Let $X$ be the random variable describing\n",
      "the greatest value of the 5 slips selected. \n",
      "\n",
      "(a) Determine the probability mass function for $X$.\n",
      "\n",
      "(b) What's the probability at least one of the slips selected is 15 or\n",
      "greater?\n",
      "\n",
      "*Solution:*\n",
      "Well, $X$ takes the values 5, ..., 20. There are $\\binom{20}{5}$\n",
      "different outcomes. So we see\n",
      "\\begin{equation}\n",
      "\\Pr(X\\leq k)=\\frac{\\binom{k}{5}}{\\binom{20}{5}}.\n",
      "\\end{equation}\n",
      "Thus\n",
      "\\begin{equation}\n",
      "p(k)=\\Pr(X\\leq k)-\\Pr(X\\leq k-1)\n",
      "\\end{equation}\n",
      "and using Pascal's triangle, we have\n",
      "\\begin{equation}\n",
      "\\begin{split}\n",
      "p(k) &=\\frac{\\binom{k}{5}-\\binom{k-1}{5}}{\\binom{20}{5}}\\\\\n",
      "&=\\frac{\\binom{k-1}{4}}{\\binom{20}{5}}\n",
      "\\end{split}\n",
      "\\end{equation}\n",
      "This gives us the probability mass function.\n",
      "\n",
      "(b) The probability one of the slips is 15 or greater can be calculated\n",
      "using\n",
      "\\begin{equation}\n",
      "\\Pr(X\\geq15)=\\sum^{20}_{k=15}p(k).\n",
      "\\end{equation}\n",
      "Equivalently, we can calculate it as\n",
      "\\begin{equation}\n",
      "\\begin{split}\n",
      "\\Pr(X\\geq15)&=1-\\Pr(X\\leq14)=\\frac{715}{15504}\\\\\n",
      "&\\approx 0.046117\n",
      "\\end{split}\n",
      "\\end{equation}\n",
      "or less than a $1/20$ probability.\n",
      "(End of Example)"
     ]
    },
    {
     "cell_type": "heading",
     "level": 1,
     "metadata": {},
     "source": [
      "Expected Value"
     ]
    },
    {
     "cell_type": "markdown",
     "metadata": {},
     "source": [
      "**Definition.**\n",
      "Let $X$ be a random variable with probability mass function $f$. \n",
      "Then the **\"Expected Value\"** (also called the \n",
      "*mean value* or *expectation*) for $X$ is\n",
      "\\begin{equation}\n",
      "\\mathbb{E}[X] = \\sum_{x:f(x)\\gt0}xf(x)\n",
      "\\end{equation}\n",
      "whenever this sum is absolutely convergent.\n",
      "\n",
      "We also have, for any function $g\\colon\\mathbb{R}\\to\\mathbb{R}$,\n",
      "\\begin{equation}\n",
      "\\mathbb{E}[g(X)]=\\sum_{i}g(x_{i})\\Pr(X=x_{i}).\n",
      "\\end{equation}\n",
      "(End of Definition)"
     ]
    },
    {
     "cell_type": "markdown",
     "metadata": {},
     "source": [
      "**Definition.**\n",
      "Let $X$ be a random variable. We have its **\"k-th Moment\"** be\n",
      "$$\\mu_{k}=\\mathbb{E}[X^{k}]$$\n",
      "and the **\"k-th Central Moment\"** be\n",
      "$$\\sigma_{k}=\\mathbb{E}[(X-\\mu_{1})^{k}].$$\n",
      "(End of Definition)"
     ]
    },
    {
     "cell_type": "markdown",
     "metadata": {},
     "source": [
      "**Example.**\n",
      "Let $X$ be a random variable such that $\\Pr(X=1)=0.2$, $\\Pr(X=2)=0.3$ and $\\Pr(X=3)=0.5$. What's the expected value of $X$?\n",
      "\n",
      "*Solution:* \n",
      "We find, using our definition,\n",
      "\\begin{equation}\n",
      "\\mathbb{E}[X]=1\\Pr(X=1)+2\\Pr(X=2)+3\\Pr(X=3)\n",
      "\\end{equation}\n",
      "and this becomes\n",
      "\\begin{equation}\n",
      "\\begin{split}\n",
      "\\mathbb{E}[X]&=1\\cdot0.2+2\\cdot0.3+3\\cdot0.5\\\\\n",
      "&=0.2+0.6+1.5=2.3.\n",
      "\\end{split}\n",
      "\\end{equation}\n",
      "That concludes our example."
     ]
    },
    {
     "cell_type": "markdown",
     "metadata": {},
     "source": [
      "**Theorem.**\n",
      "The expectation operator $\\mathbb{E}$ has the following properties:\n",
      "\n",
      "0. If $X\\geq0$, then $\\mathbb{E}[X]\\geq0$\n",
      "0. (Linearity) If $a,b\\in\\mathbb{R}$, then $\\mathbb{E}[aX+bY]=a\\mathbb{E}[X]+b\\mathbb{E}[Y]$\n",
      "0. $\\mathbb{E}[1]=1$.\n",
      "\n",
      "*Proof.*\n",
      "(1) We see $\\mathbb{E}[X]=\\sum xf(x)$ but both $x\\geq0$ and $f(x)\\geq0$, hence $xf(x)\\geq0$ and $\\sum xf(x)\\geq0$.\n",
      "\n",
      "(2) The basic strategy is to (i) restrict focus to uniform random variables $X$ & $Y$, (ii) define a new random variable $Z=aX+bY$, then show $\\mathbb{E}[Z]=a\\mathbb{E}[X]+b\\mathbb{E}[Y]$.\n",
      "\n",
      "We have $A_{x}=\\{X=x\\}$ and $B_{y}=\\{Y=y\\}$. Observe\n",
      "$$aX + bY = \\sum_{x,y}(ax+by)I_{A_{x}\\cap B_{y}}$$\n",
      "If $Z=aX+bY$, then\n",
      "\\begin{align}\n",
      "\\mathbb{E}[Z] &= \\sum_{z}z\\Pr(Z=z)\\\\\n",
      "&=\\sum_{x,y}g(x,y)\\Pr(X=x,Y=y)\\\\\n",
      "&=\\sum_{x,y}g(x,y)\\Pr(A_{x}\\cap B_{y})\\\\\n",
      "&=\\sum_{x,y}(ax+by)\\Pr(A_{x}\\cap B_{y})\\\\\n",
      "&=\\sum_{x}ax\\sum_{y}\\Pr(A_{x}\\cap B_{y})+\\sum_{y}by\\sum_{x}\\Pr(A_{x}\\cap B_{y}).\n",
      "\\end{align}\n",
      "We see\n",
      "$$\n",
      "\\sum_{y}\\Pr(A_{x}\\cap B_{y})=\\Pr\\left(A_{x}\\cap(\\bigcup_{y}B_{y})\\right)=\\Pr(A_{x}\\cap\\Omega)=\\Pr(A_{x})\n",
      "$$\n",
      "and\n",
      "$$\n",
      "\\sum_{x}\\Pr(A_{x}\\cap B_{y})=\\Pr\\left((\\bigcup_{x}A_{x})\\cap B_{y}\\right)=\\Pr(\\Omega\\cap B_{y})=\\Pr(B_{y})\n",
      "$$\n",
      "Thus\n",
      "\\begin{align}\n",
      "\\mathbb{E}[aX + bY] &= a\\sum_{x}x\\Pr(A_{x}) + b\\sum_{y}y\\Pr(\\cap B_{y})\\\\\n",
      "&=a\\mathbb{E}[X]+b\\mathbb{E}[Y]\n",
      "\\end{align}\n",
      "as desired.\n",
      "\n",
      "(3) It follows from (2) immediately.\n",
      "(End of Proof)"
     ]
    },
    {
     "cell_type": "heading",
     "level": 2,
     "metadata": {},
     "source": [
      "Variance"
     ]
    },
    {
     "cell_type": "markdown",
     "metadata": {},
     "source": [
      "**Definition.**\n",
      "Given some discrete random variable $X$ and its expected value \n",
      "$\\mu=\\mathbb{E}[X]$, how can we measure the \"spread\" of (the probability \n",
      "mass function for) $X$? The naive solution would use $\\mathbb{E}|X-\\mu|$, \n",
      "but this is bad since we should avoid absolute values.\n",
      "\n",
      "So we define the **\"Variance\"** of $X$ as\n",
      "\\begin{equation}\n",
      "\\operatorname{Var}(X)=\\mathbb{E}(X-\\mu)^{2}.\n",
      "\\end{equation}\n",
      "Notice this intuitively measures the sum of the \"distance squared\" of the \n",
      "values $x_i$ from the expected value $\\mu$. This has the \"wrong units\" \n",
      "(distance squared as opposed to distance). So we just take the square root,\n",
      "and we obtain the **\"Standard Deviation\"**\n",
      "\\begin{equation}\n",
      "\\sigma(X)=\\sqrt{\\operatorname{Var}(X)}=\\sqrt{\\mathbb{E}(X-\\mu)^{2}}.\n",
      "\\end{equation}"
     ]
    },
    {
     "cell_type": "markdown",
     "metadata": {},
     "source": [
      "**Proposition.**\n",
      "The expected value is linear, i.e., given random variables $X$ and $Y$ and any coefficients $c_1$, $c_2$ we have\n",
      "\\begin{equation}\n",
      "\\mathbb{E}[c_1 X+c_2Y]=c_1\\mathbb{E}[X]+c_2\\mathbb{E}[Y].\n",
      "\\end{equation}\n",
      "(End of Proposition)"
     ]
    },
    {
     "cell_type": "markdown",
     "metadata": {},
     "source": [
      "Also note that\n",
      "\\begin{align}\n",
      "\\operatorname{Var}(X) &= \\mathbb{E}[(X-\\mu)^{2}]\\\\\n",
      "&= \\mathbb{E}[X^{2}-2\\mu X+\\mu^{2}]\\\\\n",
      "&=\\mathbb{E}[X^{2}]-2\\mu\\mathbb{E}[X]+\\mu^{2}\\\\\n",
      "&=\\mathbb{E}[X^{2}]-2\\mu^{2}+\\mu^{2}=\\mathbb{E}[X^{2}]-(\\mathbb{E}[X])^{2}.\n",
      "\\end{align}\n",
      "This gives us another intuition for variance!"
     ]
    },
    {
     "cell_type": "markdown",
     "metadata": {},
     "source": [
      "**Exercise.**\n",
      "1. Show $\\mathrm{Var}(X)\\geq0$ for any random variable $X$.\n",
      "2. Prove or find a counter example: for any real $a$, $\\mathrm{Var}(aX) = a^{2}\\mathrm{Var}(X)$.\n",
      "\n",
      "**Puzzle.**\n",
      "When will $\\mathrm{Var}(X)=0$?"
     ]
    },
    {
     "cell_type": "heading",
     "level": 2,
     "metadata": {},
     "source": [
      "Correlated and Independent Random Variables"
     ]
    },
    {
     "cell_type": "markdown",
     "metadata": {},
     "source": [
      "**Theorem.**\n",
      "Let $X$ and $Y$ be random variables. If they are independent, then $\\mathbb{E}[XY]=\\mathbb{E}[X]\\mathbb{E}[Y]$.\n",
      "\n",
      "*Proof.*\n",
      "We can expand\n",
      "$$XY = \\sum_{x,y}xy I_{A_{x}\\cap B_{y}}$$\n",
      "Then\n",
      "\\begin{align}\n",
      "\\mathbb{E}[XY] &= \\sum_{x,y}xy\\Pr(A_{x}\\cap B_{y})\\\\\n",
      "&=\\sum_{x,y}xy\\Pr(A_{x})\\Pr(B_{y})\n",
      "\\end{align}\n",
      "by linearity, then collecting terms we find\n",
      "\\begin{align}\n",
      "\\mathbb{E}[XY]\n",
      "&=\\sum_{x,y}xy\\Pr(A_{x})\\Pr(B_{y})\\\\\n",
      "&=\\left(\\sum_{x}x\\Pr(A_{x})\\right)\\left(\\sum_{y}y\\Pr(B_{y})\\right)\\\\\n",
      "&=\\mathbb{E}[X]\\mathbb{E}[Y]\n",
      "\\end{align}\n",
      "by definition.\n",
      "(End of Proof)"
     ]
    },
    {
     "cell_type": "markdown",
     "metadata": {},
     "source": [
      "**Definition.**\n",
      "If $\\mathbb{E}[XY]=\\mathbb{E}[X]\\mathbb{E}[Y]$, then we say $X$ and $Y$ are **\"Uncorrelated\"**.\n",
      "(End of Definition)\n",
      "\n",
      "**Remark.**\n",
      "In particular, we have if $X$ and $Y$ are independent random variables, then they are uncorrelated.\n",
      "(End of Remark)"
     ]
    },
    {
     "cell_type": "markdown",
     "metadata": {},
     "source": [
      "**Counter-Example (Uncorrelated does not imply Independent).**\n",
      "Suppose $X$ is a uniform random variable on $\\{-1,0,1\\}$, and $Y=X^{2}$. Are $X$ and $Y$ independent?\n",
      "\n",
      "*Solution.*\n",
      "We see\n",
      "\\begin{equation}\n",
      "\\mathbb{E}[X] = -1\\cdot(1/3) + 0\\cdot(1/3) + 1\\cdot(1/3) = 0\n",
      "\\end{equation}\n",
      "and\n",
      "\\begin{equation}\n",
      "\\mathbb{E}[Y] = 1\\cdot(1/3) + 0\\cdot(1/3) + 1\\cdot(1/3) = 2/3.\n",
      "\\end{equation}\n",
      "We see\n",
      "\\begin{equation}\n",
      "\\mathbb{E}[XY] = -1(1/3) + 0(1/3) + 1(1/3) = 0 = \\mathbb{E}[X]\\mathbb{E}[Y].\n",
      "\\end{equation}\n",
      "But quite clearly, $X$ and $Y$ are not independent."
     ]
    },
    {
     "cell_type": "markdown",
     "metadata": {},
     "source": [
      "**Lemma.**\n",
      "For random variables $X$ and $Y$, correlated or not, we have \n",
      "$$\\mathrm{Var}(X+Y)=\\mathrm{Var}(X)+\\mathrm{Var}(Y)+\\mathbb{E}[(X-\\mathbb{E}[X])(Y-\\mathbb{E}[Y])]$$\n",
      "\n",
      "*Proof.*\n",
      "We find this directly\n",
      "\\begin{align}\n",
      "\\mathrm{Var}(X+Y)\n",
      "&=\\mathbb{E}[(X+Y-\\mathbb{E}[X+Y])^{2}]\\\\\n",
      "&=\\mathbb{E}[(X-\\mathbb{E}[X]+Y-\\mathbb{E}[Y])^{2}]\\\\\n",
      "&=\\mathbb{E}[(X-\\mathbb{E}[X])^{2}]\n",
      "+\\mathbb{E}[(Y-\\mathbb{E}[Y])^{2}]\n",
      "+\\mathbb{E}[(X-\\mathbb{E}[X])(Y-\\mathbb{E}[Y])]\n",
      "\\end{align}\n",
      "which proves the lemma.\n",
      "(End of proof)\n",
      "\n",
      "**Theorem.**\n",
      "If $X$ and $Y$ are uncorrelated random variables, then $\\mathrm{Var}(X+Y)=\\mathrm{Var}(X)+\\mathrm{Var}(Y)$.\n",
      "\n",
      "*Proof.*\n",
      "We can use the previous lemma, and then we just want to show\n",
      "$$\n",
      "\\mathbb{E}[(X-\\mathbb{E}[X])(Y-\\mathbb{E}[Y])] = 0.\n",
      "$$\n",
      "Expanding out, and invoking independence, we find\n",
      "\\begin{align}\n",
      "\\mathbb{E}[(X-\\mathbb{E}[X])(Y-\\mathbb{E}[Y])]\n",
      "&= \\mathbb{E}[XY - \\mathbb{E}[X]Y - \\mathbb{E}[Y]X + \\mathbb{E}[X]\\mathbb{E}[Y]]\\\\\n",
      "&= \\mathbb{E}[XY] - \\mathbb{E}[\\mathbb{E}[X]Y] - \\mathbb{E}[\\mathbb{E}[Y]X] + \\mathbb{E}[X]\\mathbb{E}[Y]\\\\\n",
      "&= \\mathbb{E}[XY] - \\mathbb{E}[X]\\mathbb{E}[Y] = 0.\n",
      "\\end{align}\n",
      "(End of proof)"
     ]
    },
    {
     "cell_type": "markdown",
     "metadata": {},
     "source": [
      "**Exercise.**\n",
      "Prove or find a counter-example: let $X$ be a random variable, then $X$ and $X-\\mathbb{E}[X]$ have the same variance.\n",
      "\n",
      "Food for thought: Are they independent? Correlated?\n",
      "(End of exercise)"
     ]
    },
    {
     "cell_type": "heading",
     "level": 2,
     "metadata": {},
     "source": [
      "Uniform Distribution"
     ]
    },
    {
     "cell_type": "markdown",
     "metadata": {},
     "source": [
      "**Definition.**\n",
      "A **\"Uniform Discrete Random Variable\"** is a random variable taking values \n",
      "$x_1$, $x_2$, ..., $x_n$ each with equal probability $1/n$. Such a random \n",
      "variable simply takes a random choice among $n$ numbers. Note that\n",
      "\\begin{equation}\n",
      "\\mathbb{E}[X] = \\frac{x_{1}+\\dots+x_{n}}{n}\n",
      "\\end{equation}\n",
      "and\n",
      "\\begin{equation}\n",
      "\\operatorname{Var}[X] = \\frac{x^{2}_{1}+\\dots+x_{n}^{2}}{n}\n",
      "-\\left(\\frac{x_{1}+\\dots+x_{n}}{n}\\right)^{2}.\n",
      "\\end{equation}\n",
      "(End of Definition)"
     ]
    },
    {
     "cell_type": "markdown",
     "metadata": {},
     "source": [
      "**Example.**\n",
      "Let $X$ be the number shown on a rolled fair die. What's $\\mathbb{E}[X]$ and $\\operatorname{Var}(X)$?\n",
      "\n",
      "*Solution:* \n",
      "We find\n",
      "\\begin{equation}\n",
      "\\begin{split}\n",
      "\\mathbb{E}[X] &= \\frac{1+2+\\dots+6}{6}\\\\\n",
      "&=\\frac{1}{6}\\left(\\frac{6(7)}{2}\\right)=\\frac{7}{2},\n",
      "\\end{split}\n",
      "\\end{equation}\n",
      "and\n",
      "\\begin{equation}\n",
      "\\mathbb{E}[X^{2}]=\\frac{1+2^{2}+\\dots+6^{2}}{6}=\\frac{91}{6}\n",
      "\\end{equation}\n",
      "which then implies\n",
      "\\begin{equation}\n",
      "\\begin{split}\n",
      "\\operatorname{Var}(X)&=\\frac{91}{6}-\\left(\\frac{7}{2}\\right)^{2}\\\\\n",
      "&=\\frac{91}{6}-\\frac{49}{4}=\\frac{70}{24}=\\frac{35}{12}\n",
      "\\end{split}\n",
      "\\end{equation}"
     ]
    },
    {
     "cell_type": "heading",
     "level": 2,
     "metadata": {},
     "source": [
      "Bernoull Random Variable"
     ]
    },
    {
     "cell_type": "markdown",
     "metadata": {},
     "source": [
      "Let $A$ be an event with probability $p=\\Pr(A)$.\n",
      "We have an **\"Indicator Function\"** for $A$ be a function defined as\n",
      "\\begin{equation}\n",
      "I_{A}(x) = \\begin{cases}1 & \\mbox{if }x\\in A\\\\\n",
      "0 & \\mbox{otherwise}\\end{cases}\n",
      "\\end{equation}\n",
      "Note $I_A$ is a random variable, since it's a function from $\\Omega\\to\\mathbb{R}$."
     ]
    },
    {
     "cell_type": "markdown",
     "metadata": {},
     "source": [
      "**Claim:**\n",
      "$\\mathbb{E}[I_{A}]=p$. Really? Well, observe\n",
      "\\begin{equation}\n",
      "\\begin{split}\n",
      "\\mathbb{E}[I_A] &= I_A(A)\\Pr(A)+I_A(A^{\\complement})\\Pr(A^{\\complement})\\\\\n",
      "&= 1\\cdot p + 0\\cdot(1-p) = p.\n",
      "\\end{split}\n",
      "\\end{equation}\n",
      "What is its variance? We see\n",
      "\\begin{equation}\n",
      "\\mathbb{E}[I_{A}^{2}]=1^{2}\\Pr(A)+0^{2}\\Pr(A^{\\complement})=p,\n",
      "\\end{equation}\n",
      "thus\n",
      "\\begin{equation}\n",
      "\\operatorname{Var}(I_A)=p-p^{2}=p(1-p).\n",
      "\\end{equation}"
     ]
    },
    {
     "cell_type": "markdown",
     "metadata": {},
     "source": [
      "Now, recall the \"inclusion-exclusion\" property for probability suggests\n",
      "\\begin{equation}\n",
      "\\Pr(A\\cup B)=\\Pr(A)+\\Pr(B)-\\Pr(A\\cap B)\n",
      "\\end{equation}\n",
      "which can be derived using expectation values of Bernoulli random variables. \n",
      "Recall\n",
      "\\begin{equation}\n",
      "I_{A}+I_{A^{\\complement}}=1\n",
      "\\end{equation}\n",
      "where we abuse notation and write $1$ for the constant function $I_\\Omega$. \n",
      "Now, we also see\n",
      "\\begin{equation}\n",
      "I_{A\\cap B}(x)=\\begin{cases}1 & \\mbox{if }x\\in A\\mbox{ and }x\\in B\\\\\n",
      "0 & \\mbox{otherwise}\n",
      "\\end{cases}\n",
      "\\end{equation}\n",
      "thus\n",
      "\\begin{equation}\n",
      "I_{A\\cap B}=I_{A}I_{B}.\n",
      "\\end{equation}\n",
      "Great.\n",
      "\n",
      "We now want to consider $I_{A\\cup B}$ in terms of $I_{A}$, $I_{B}$, \n",
      "and $I_{A\\cap B}$. Observe\n",
      "\\begin{equation}\n",
      "I_{A\\cup B} = 1-I_{(A\\cup B)^{\\complement}}=1-I_{A^{\\complement}\\cap B^{\\complement}}\n",
      "\\end{equation}\n",
      "replacing $I_{A^{\\complement}\\cap B^{\\complement}}$ with the product of indicator functions\n",
      "gives us\n",
      "\\begin{equation}\n",
      "I_{A\\cup B}=1-I_{A^{\\complement}}I_{B^{\\complement}}.\n",
      "\\end{equation}\n",
      "Using the fact $I_{A^{\\complement}}=1-I_{A}$, we have\n",
      "\\begin{equation}\n",
      "I_{A\\cup B}=1-(1-I_{A})(1-I_{B}).\n",
      "\\end{equation}\n",
      "Using basic algebra, expanding out the right hand side, we find\n",
      "\\begin{equation}\n",
      "I_{A\\cup B}=I_{A}+I_{B}-I_{A\\cap B}.\n",
      "\\end{equation}\n",
      "Now, we take expectation values to find\n",
      "\\begin{equation}\n",
      "\\begin{split}\n",
      "\\Pr(A\\cup B) &=\\mathbb{E}(I_{A\\cup B}) \n",
      "= \\mathbb{E}[I_A]+\\mathbb{E}[I_B]-\\mathbb{E}[I_{A\\cap B}]\\\\\n",
      "&=\\Pr(A)+\\Pr(B)-\\Pr(A\\cap B).\n",
      "\\end{split}\n",
      "\\end{equation}\n",
      "This gives us an alternate proof of the inclusion-exclusion principle."
     ]
    },
    {
     "cell_type": "markdown",
     "metadata": {},
     "source": [
      "**Hat Checker Problem Redux.**\n",
      "We can use indicator functions to solve the hat checker problem, which we \n",
      "introduced before. Let $\\pi$ be a \n",
      "permutation of $n$ elements, we want to find the number of fixed points. Let\n",
      "\\begin{equation}\n",
      "X(\\sigma)=\\mbox{number of fixed points of $\\sigma$}.\n",
      "\\end{equation}\n",
      "We introduce the indicator function\n",
      "\\begin{equation}\n",
      "I_{i}(\\pi) = \\begin{cases}\n",
      "1 & \\mbox{if $i$ is a fixed point of $\\pi$}\\\\\n",
      "0 & \\mbox{otherwise}\n",
      "\\end{cases}\n",
      "\\end{equation}\n",
      "We now fix a number $r$ such that $0\\leq r\\leq n-2$. Why $n-2$? We want to\n",
      "sum over the permutations which do not fix all the points. If we fix $n-1$ points,\n",
      "then we fix all the points (think about it: if we give $n-1$ people their hats \n",
      "correctly, the remaining hat must belong to the remaining person!). \n",
      "\n",
      "So we now set\n",
      "\\begin{equation}\n",
      "\\mathcal{S}_{r}=\\sum_{\\pi\\in S_{n}}I_{j_1}(\\dots)I_{j_r}(1-I_{k_{r+1}})%\n",
      "(\\dots)(1-I_{k_{n}})\n",
      "\\end{equation}\n",
      "where we sum over all permutations. Observe there are $n!$ terms in the sum.\n",
      "\n",
      "If $X(\\sigma)\\neq r$, we claim $\\mathcal{S}_{r}=0$. Why? Well, if \n",
      "$X(\\sigma)>r$, then one of the $(1-I_{k_{\\textstyle{\\ast}}})$ factors vanishes\n",
      "in every term. If $X(\\sigma)<r$, then one of the $I_{j_{\\normalsize \\ast}}$ factors\n",
      "vanishes in every term. \n",
      "\n",
      "How many different scenarios do we have $X(\\sigma)=r$? There are $r!$\n",
      "different ways to have fixed points, and $(n-r)!$ different ways to permute\n",
      "the non-fixed points. Thus\n",
      "\\begin{equation}\n",
      "\\mathcal{S}_{r}=r!(n-r)!\n",
      "\\end{equation}\n",
      "as desired. So\n",
      "\\begin{equation}\n",
      "\\mathcal{S}_{r}(\\sigma) = \\begin{cases}r!(n-r)! & \\mbox{if $X(\\sigma)=r$}\\\\\n",
      "0 & \\mbox{otherwise}\\end{cases}\n",
      "\\end{equation}\n",
      "Thus we can construct an indicator function\n",
      "\\begin{equation}\n",
      "\\mathcal{I}_{r}=\\frac{\\mathcal{S}_{r}}{r!(n-r)!}\n",
      "\\end{equation}\n",
      "which tells us if a permutation has $r$ fixed points."
     ]
    },
    {
     "cell_type": "markdown",
     "metadata": {},
     "source": [
      "**Puzzle:** What's $\\mathbb{E}[\\mathcal{I}_{r}]$?"
     ]
    },
    {
     "cell_type": "markdown",
     "metadata": {},
     "source": [
      "*Solution:*\n",
      "Using linearity, we have\n",
      "\\begin{equation}\n",
      "\\mathbb{E}[\\mathcal{I}_r]=\\frac{1}{r!(n-r)!}\\mathbb{E}[\\mathcal{S}_{r}],\n",
      "\\end{equation}\n",
      "and we need to compute $\\mathbb{E}[\\mathcal{S}_{r}]$. We find\n",
      "\\begin{equation}\n",
      "\\mathbb{E}[\\mathcal{S}_r] = \\mathbb{E}\\left(\\sum_{\\pi}I_{j_1}(\\dots)I_{j_r}(1-I_{k_{r+1}})(\\dots)(1-I_{k_n})\\right)\n",
      "\\end{equation}\n",
      "then we expand the $(1-I_{k_{\\textstyle \\ast}})$ factors\n",
      "\\begin{multline}\n",
      "\\mathbb{E}[\\mathcal{S}_r] = \\mathbb{E}\\Bigg(\\sum_{\\pi}I_{j_1}(\\dots)I_{j_r}\n",
      "\\times\\biggl[1-(I_{k_{r+1}}I_{k_{r+2}}+\\dots+I_{k_{n-1}}I_{k_n}) \\\\\n",
      "+(\\dots)+(-1)^{n-r}I_{k_{r+1}}(\\dots)I_{k_n}\\biggr]\\Bigg)\n",
      "\\end{multline}\n",
      "Now, we claim that\n",
      "\\begin{equation}\n",
      "\\mathbb{E}[I_{j_1}(\\dots)I_{j_{r}}I_{k_{r+s}}]=\\mathbb{E}[I_{j_1}(\\dots)I_{j_{r}}I_{k_{r+1}}]\n",
      "\\end{equation}\n",
      "for $s=1,\\dots,n-r$. This means our sum becomes\n",
      "\\begin{equation}\n",
      "\\mathbb{E}[\\mathcal{S}_r]=\\sum_{\\pi}\\sum^{n-r}_{s=0}(-1)^{s}\\binom{n-r}{s}\n",
      "\\mathbb{E}[I_{j_1}(\\dots)I_{j_r}I_{k_{r+1}}(\\dots)I_{k_{r+s}}]\n",
      "\\end{equation}\n",
      "where $0\\leq s\\leq n-r$. So we see\n",
      "\\begin{equation}\n",
      "\\mathbb{E}[I_{j_1}(\\dots)I_{j_r}I_{k_{r+1}}(\\dots)I_{k_{r+s}}]=\\frac{(n-r-s)!}{n!}\n",
      "\\end{equation}\n",
      "as there are $n!$ permutations with only $(n-r-s)!$ permutations fixing the \n",
      "given entries.\n",
      "\n",
      "Now, we combine everything together, and find\n",
      "\\begin{align}\n",
      "\\mathbb{E}[\\mathcal{I}_r] &=\n",
      "\\frac{1}{r!(n-r)!}\\mathbb{E}[\\mathcal{S}_r]\\\\\n",
      "&=\\frac{1}{r!(n-r)!}\\sum_{\\pi}\\sum^{n-r}_{s=0}(-1)^{s}\\binom{n-r}{s}\\frac{(n-r-s)!}{n!}\\\\\n",
      "&=\\frac{1}{r!(n-r)!}n!\\sum^{n-r}_{s=0}(-1)^{s}\\binom{n-r}{s}\\frac{(n-r-s)!}{n!}\\\\\n",
      "&=\\frac{1}{r!}\\sum^{n-r}_{s=0}\\frac{(-1)^{s}}{s!}\n",
      "\\end{align}\n",
      "So, summarizing the main conclusion, the probability that a random permutations \n",
      "has exactly $r$ fixed points is given by\n",
      "\\begin{equation}\n",
      "\\Pr(X=r)=\\frac{1}{r!}\\left(\\frac{1}{2!}-\\frac{1}{3!}+\\dots+\\frac{(-1)^{n-r}}{(n-r)!}\\right).\n",
      "\\end{equation}\n",
      "This holds for $0\\leq r\\leq n-2$. For $r=0$, this converges quickly to the value\n",
      "\\begin{equation}\n",
      "\\frac{1}{\\mathrm{e}}=0.367 879 441 171\\dots\n",
      "\\end{equation}\n",
      "We have thus derived another solution to the hat check problem using Bernoulli \n",
      "random variables."
     ]
    }
   ],
   "metadata": {}
  }
 ]
}
