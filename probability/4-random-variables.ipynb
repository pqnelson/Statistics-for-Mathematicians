{
 "metadata": {
  "name": "",
  "signature": "sha256:37d01b3c76c95a59de1ff6f0a8ad45d4d6e3fa676c2682af4481f8474de2dfcf"
 },
 "nbformat": 3,
 "nbformat_minor": 0,
 "worksheets": [
  {
   "cells": [
    {
     "cell_type": "markdown",
     "metadata": {},
     "source": [
      "In an election, 50 people vote. We describe all the outcomes in a sample\n",
      "space $\\Omega$, but don't we have a valid question \"How many\n",
      "voted 'yes'?\"? \n",
      "\n",
      "How can we answer such a question? *Count the number of 'yes'-es!*\n",
      "This is done with a map\n",
      "\\begin{equation}\n",
      "Y\\colon\\Omega\\to\\mathbb{N}_{0}.\n",
      "\\end{equation}\n",
      "But what is this mapping? The number of 'yes'-es, which depends on the\n",
      "event. It's a *random variable!*\n",
      "\n",
      "Note that we can extend the codomain from $\\mathbb{N}_0$ to $\\mathbb{Z}$, $\\mathbb{Q}$, or\n",
      "$\\mathbb{R}$. For the sake of generality, we will consider $\\mathbb{R}$. (We can sometimes include $+\\infty$, or $-\\infty$, if necessary.)"
     ]
    },
    {
     "cell_type": "markdown",
     "metadata": {},
     "source": [
      "**Definition.**\n",
      "Let $(\\Omega,\\mathcal{F},\\Pr)$ be a probability space. We define a\n",
      "**\"Random Variable\"** to be a function $W\\colon\\Omega\\to\\mathbb{R}$\n",
      "such that for each $x\\in\\mathbb{R}$ we have the set\n",
      "\\begin{equation}\n",
      "X = \\{ \\omega\\in\\Omega : W(\\omega)\\leq x\\}\n",
      "\\end{equation}\n",
      "be an element of $\\mathcal{F}$, or in symbols $X\\in\\mathcal{F}$.\n",
      "(End of Definition)"
     ]
    },
    {
     "cell_type": "markdown",
     "metadata": {},
     "source": [
      "**Remark.**\n",
      "We will consider the simpler case of **\"Discrete Random Variables\"**\n",
      "$X\\colon\\Omega\\to\\mathbb{Z}$. \n",
      "(End of Remark)"
     ]
    },
    {
     "cell_type": "markdown",
     "metadata": {},
     "source": [
      "**Remark 2.** The intuition behind a random variable should be *it represents the results of an experiment or trial.* For this reason, we will often consider which distribution the random variable \"looks like\". E.g., if we are \"flipping a coin\" (considering a trial that's success or fail), we have our random variable \"look like\" a Bernoulli distribution. We indicate this writing $X\\sim B(1,p)$ where $p$ is the probability of success. (End of Remark)"
     ]
    },
    {
     "cell_type": "markdown",
     "metadata": {},
     "source": [
      "The really critical theoretic property for random variables $X$ is for\n",
      "any interval $B\\subset\\mathbb{R}$, we have a set of outcomes\n",
      "\\begin{equation}\n",
      "\\{\\omega\\in\\Omega : X(\\omega)\\in B\\}\n",
      "\\end{equation}\n",
      "(denoted $X\\in B$) which lives in the $\\sigma$-algebra. Studying\n",
      "$\\Pr(X\\in B)$ will become increasingly relevant."
     ]
    },
    {
     "cell_type": "markdown",
     "metadata": {},
     "source": [
      "**Examples.**\n",
      "Lets give a grocery list of examples.\n",
      "\n",
      "0. Toss a coin $N$ times, let $H$ be the number of heads.\n",
      "0. Choose a random point on $\\mathbb{R}^{n}$, let $D$ be the distance from\n",
      "the point to the origin.\n",
      "0. Take a random person from a class, let $X$ be the student's\n",
      "height.\n",
      "0. Let $W$ be the value of the DOW stock index at closing.\n",
      "\n",
      "(End of Examples)"
     ]
    },
    {
     "cell_type": "markdown",
     "metadata": {},
     "source": [
      "A discrete random variable has countably many values $\\{x_{i}\\in\\mathbb{R} :\n",
      "i\\in I\\subset\\mathbb{Z}\\}$. We take the\n",
      "convention that its codomain is a subdomain of $\\mathbb{Z}$. Let $X$ be a\n",
      "discrete random variable, then its **\"Probability Mass Function\"**\n",
      "$p(x_{i}):=\\Pr(X=x_{i})$."
     ]
    },
    {
     "cell_type": "markdown",
     "metadata": {},
     "source": [
      "**Proposition.**\n",
      "A probability mass function $p$ satisfies:\n",
      "\n",
      "0. For any $i$, $p(x_{i})>0$\n",
      "0. For any interval $B$, $\\Pr(X\\in B)=\\sum_{x_{i}\\in B}p(x_{i})$\n",
      "0. We have $\\sum_{i}p(x_{i})=1$.\n",
      "\n",
      "(End of Proposition)"
     ]
    },
    {
     "cell_type": "markdown",
     "metadata": {},
     "source": [
      "**Example.**\n",
      "Let $X$ be the number of heads in 2 fair coin tosses. What is its\n",
      "probability mass function?\n",
      "\n",
      "*Solution:*\n",
      "We see there are three outcomes: 0, 1, 2. We also see\n",
      "that $\\Pr(X=0)=1/4$ and $\\Pr(X=2)=1/4$. Thus $\\Pr(X=1)=1/2$. This gives\n",
      "us the probability mass function.\n",
      "(End of Example)"
     ]
    },
    {
     "cell_type": "markdown",
     "metadata": {},
     "source": [
      "**Example.**\n",
      "An urn contains 20 slips of paper numbered 1, ..., 20. We select 5 at\n",
      "random, without replacement. Let $X$ be the random variable describing\n",
      "the greatest value of the 5 slips selected. \n",
      "\n",
      "(a) Determine the probability mass function for $X$.\n",
      "\n",
      "(b) What's the probability at least one of the slips selected is 15 or\n",
      "greater?\n",
      "\n",
      "*Solution:*\n",
      "Well, $X$ takes the values 5, ..., 20. There are $\\binom{20}{5}$\n",
      "different outcomes. So we see\n",
      "\\begin{equation}\n",
      "\\Pr(X\\leq k)=\\frac{\\binom{k}{5}}{\\binom{20}{5}}.\n",
      "\\end{equation}\n",
      "Thus\n",
      "\\begin{equation}\n",
      "p(k)=\\Pr(X\\leq k)-\\Pr(X\\leq k-1)\n",
      "\\end{equation}\n",
      "and using Pascal's triangle, we have\n",
      "\\begin{equation}\n",
      "\\begin{split}\n",
      "p(k) &=\\frac{\\binom{k}{5}-\\binom{k-1}{5}}{\\binom{20}{5}}\\\\\n",
      "&=\\frac{\\binom{k-1}{4}}{\\binom{20}{5}}\n",
      "\\end{split}\n",
      "\\end{equation}\n",
      "This gives us the probability mass function.\n",
      "\n",
      "(b) The probability one of the slips is 15 or greater can be calculated\n",
      "using\n",
      "\\begin{equation}\n",
      "\\Pr(X\\geq15)=\\sum^{20}_{k=15}p(k).\n",
      "\\end{equation}\n",
      "Equivalently, we can calculate it as\n",
      "\\begin{equation}\n",
      "\\begin{split}\n",
      "\\Pr(X\\geq15)&=1-\\Pr(X\\leq14)=\\frac{715}{15504}\\\\\n",
      "&\\approx 0.046117\n",
      "\\end{split}\n",
      "\\end{equation}\n",
      "or less than a $1/20$ probability.\n",
      "(End of Example)"
     ]
    },
    {
     "cell_type": "markdown",
     "metadata": {},
     "source": [
      "**Definition.**\n",
      "Let $X$ be a discrete random variable taking values $x_{1}$, $x_{2}$, .... \n",
      "Then the **\"Expected Value\"** (also called the *average* or \n",
      "*mean* or *expectation*) for $X$ is\n",
      "\\begin{equation}\n",
      "\\mathbb{E}[X] = \\sum_{i}x_{i}\\Pr(X=x_{i}).\n",
      "\\end{equation}\n",
      "We also have, for any function $g\\colon\\mathbb{R}\\to\\mathbb{R}$,\n",
      "\\begin{equation}\n",
      "\\mathbb{E}[g]=\\sum_{i}g(x_{i})\\Pr(X=x_{i}).\n",
      "\\end{equation}\n",
      "(End of Definition)"
     ]
    },
    {
     "cell_type": "markdown",
     "metadata": {},
     "source": [
      "**Example.**\n",
      "Let $X$ be a random variable such that $\\Pr(X=1)=0.2$, $\\Pr(X=2)=0.3$ and $\\Pr(X=3)=0.5$. What's the expected value of $X$?\n",
      "\n",
      "*Solution:* \n",
      "We find, using our definition,\n",
      "\\begin{equation}\n",
      "\\mathbb{E}[X]=1\\Pr(X=1)+2\\Pr(X=2)+3\\Pr(X=3)\n",
      "\\end{equation}\n",
      "and this becomes\n",
      "\\begin{equation}\n",
      "\\begin{split}\n",
      "\\mathbb{E}[X]&=1\\cdot0.2+2\\cdot0.3+3\\cdot0.5\\\\\n",
      "&=0.2+0.6+1.5=2.3.\n",
      "\\end{split}\n",
      "\\end{equation}\n",
      "That concludes our example."
     ]
    },
    {
     "cell_type": "heading",
     "level": 2,
     "metadata": {},
     "source": [
      "Variance"
     ]
    },
    {
     "cell_type": "markdown",
     "metadata": {},
     "source": [
      "**Definition.**\n",
      "Given some discrete random variable $X$ and its expected value \n",
      "$\\mu=\\mathbb{E}[X]$, how can we measure the \"spread\" of (the probability \n",
      "mass function for) $X$? The naive solution would use $\\mathbb{E}|X-\\mu|$, \n",
      "but this is bad since we should avoid absolute values.\n",
      "\n",
      "So we define the **\"Variance\"** of $X$ as\n",
      "\\begin{equation}\n",
      "\\operatorname{Var}(X)=\\mathbb{E}(X-\\mu)^{2}.\n",
      "\\end{equation}\n",
      "Notice this intuitively measures the sum of the \"distance squared\" of the \n",
      "values $x_i$ from the expected value $\\mu$. This has the \"wrong units\" \n",
      "(distance squared as opposed to distance). So we just take the square root,\n",
      "and we obtain the **\"Standard Deviation\"**\n",
      "\\begin{equation}\n",
      "\\sigma(X)=\\sqrt{\\operatorname{Var}(X)}=\\sqrt{\\mathbb{E}(X-\\mu)^{2}}.\n",
      "\\end{equation}"
     ]
    },
    {
     "cell_type": "markdown",
     "metadata": {},
     "source": [
      "**Proposition.**\n",
      "The expected value is linear, i.e., given random variables $X$ and $Y$ and any coefficients $c_1$, $c_2$ we have\n",
      "\\begin{equation}\n",
      "\\mathbb{E}[c_1 X+c_2Y]=c_1\\mathbb{E}[X]+c_2\\mathbb{E}[Y].\n",
      "\\end{equation}\n",
      "(End of Proposition)"
     ]
    },
    {
     "cell_type": "markdown",
     "metadata": {},
     "source": [
      "Also note that\n",
      "\\begin{align}\n",
      "\\operatorname{Var}(X) &= \\mathbb{E}[(X-\\mu)^{2}]\\\\\n",
      "&= \\mathbb{E}[X^{2}-2\\mu X+\\mu^{2}]\\\\\n",
      "&=\\mathbb{E}[X^{2}]-2\\mu\\mathbb{E}[X]+\\mu^{2}\\\\\n",
      "&=\\mathbb{E}[X^{2}]-2\\mu^{2}+\\mu^{2}=\\mathbb{E}[X^{2}]-(\\mathbb{E}[X])^{2}.\n",
      "\\end{align}\n",
      "This gives us another intuition for variance!"
     ]
    },
    {
     "cell_type": "heading",
     "level": 2,
     "metadata": {},
     "source": [
      "Uniform Distribution"
     ]
    },
    {
     "cell_type": "markdown",
     "metadata": {},
     "source": [
      "**Definition.**\n",
      "A **\"Uniform Discrete Random Variable\"** is a random variable taking values \n",
      "$x_1$, $x_2$, ..., $x_n$ each with equal probability $1/n$. Such a random \n",
      "variable simply takes a random choice among $n$ numbers. Note that\n",
      "\\begin{equation}\n",
      "\\mathbb{E}[X] = \\frac{x_{1}+\\dots+x_{n}}{n}\n",
      "\\end{equation}\n",
      "and\n",
      "\\begin{equation}\n",
      "\\operatorname{Var}[X] = \\frac{x^{2}_{1}+\\dots+x_{n}^{2}}{n}\n",
      "-\\left(\\frac{x_{1}+\\dots+x_{n}}{n}\\right)^{2}.\n",
      "\\end{equation}\n",
      "(End of Definition)"
     ]
    },
    {
     "cell_type": "markdown",
     "metadata": {},
     "source": [
      "**Example.**\n",
      "Let $X$ be the number shown on a rolled fair die. What's $\\mathbb{E}[X]$ and $\\operatorname{Var}(X)$?\n",
      "\n",
      "*Solution:* \n",
      "We find\n",
      "\\begin{equation}\n",
      "\\begin{split}\n",
      "\\mathbb{E}[X] &= \\frac{1+2+\\dots+6}{6}\\\\\n",
      "&=\\frac{1}{6}\\left(\\frac{6(7)}{2}\\right)=\\frac{7}{2},\n",
      "\\end{split}\n",
      "\\end{equation}\n",
      "and\n",
      "\\begin{equation}\n",
      "\\mathbb{E}[X^{2}]=\\frac{1+2^{2}+\\dots+6^{2}}{6}=\\frac{91}{6}\n",
      "\\end{equation}\n",
      "which then implies\n",
      "\\begin{equation}\n",
      "\\begin{split}\n",
      "\\operatorname{Var}(X)&=\\frac{91}{6}-\\left(\\frac{7}{2}\\right)^{2}\\\\\n",
      "&=\\frac{91}{6}-\\frac{49}{4}=\\frac{70}{24}=\\frac{35}{12}\n",
      "\\end{split}\n",
      "\\end{equation}"
     ]
    },
    {
     "cell_type": "heading",
     "level": 2,
     "metadata": {},
     "source": [
      "Bernoull Random Variable"
     ]
    },
    {
     "cell_type": "markdown",
     "metadata": {},
     "source": [
      "Let $A$ be an event with probability $p=\\Pr(A)$.\n",
      "We have an **\"Indicator Function\"** for $A$ be a function defined as\n",
      "\\begin{equation}\n",
      "I_{A}(x) = \\begin{cases}1 & \\mbox{if }x\\in A\\\\\n",
      "0 & \\mbox{otherwise}\\end{cases}\n",
      "\\end{equation}\n",
      "Note $I_A$ is a random variable, since it's a function from $\\Omega\\to\\mathbb{R}$."
     ]
    },
    {
     "cell_type": "markdown",
     "metadata": {},
     "source": [
      "**Claim:**\n",
      "$\\mathbb{E}[I_{A}]=p$. Really? Well, observe\n",
      "\\begin{equation}\n",
      "\\begin{split}\n",
      "\\mathbb{E}[I_A] &= I_A(A)\\Pr(A)+I_A(A^{\\complement})\\Pr(A^{\\complement})\\\\\n",
      "&= 1\\cdot p + 0\\cdot(1-p) = p.\n",
      "\\end{split}\n",
      "\\end{equation}\n",
      "What is its variance? We see\n",
      "\\begin{equation}\n",
      "\\mathbb{E}[I_{A}^{2}]=1^{2}\\Pr(A)+0^{2}\\Pr(A^{\\complement})=p,\n",
      "\\end{equation}\n",
      "thus\n",
      "\\begin{equation}\n",
      "\\operatorname{Var}(I_A)=p-p^{2}=p(1-p).\n",
      "\\end{equation}"
     ]
    },
    {
     "cell_type": "markdown",
     "metadata": {},
     "source": [
      "Now, recall the \"inclusion-exclusion\" property for probability suggests\n",
      "\\begin{equation}\n",
      "\\Pr(A\\cup B)=\\Pr(A)+\\Pr(B)-\\Pr(A\\cap B)\n",
      "\\end{equation}\n",
      "which can be derived using expectation values of Bernoulli random variables. \n",
      "Recall\n",
      "\\begin{equation}\n",
      "I_{A}+I_{A^{\\complement}}=1\n",
      "\\end{equation}\n",
      "where we abuse notation and write $1$ for the constant function $I_\\Omega$. \n",
      "Now, we also see\n",
      "\\begin{equation}\n",
      "I_{A\\cap B}(x)=\\begin{cases}1 & \\mbox{if }x\\in A\\mbox{ and }x\\in B\\\\\n",
      "0 & \\mbox{otherwise}\n",
      "\\end{cases}\n",
      "\\end{equation}\n",
      "thus\n",
      "\\begin{equation}\n",
      "I_{A\\cap B}=I_{A}I_{B}.\n",
      "\\end{equation}\n",
      "Great.\n",
      "\n",
      "We now want to consider $I_{A\\cup B}$ in terms of $I_{A}$, $I_{B}$, \n",
      "and $I_{A\\cap B}$. Observe\n",
      "\\begin{equation}\n",
      "I_{A\\cup B} = 1-I_{(A\\cup B)^{\\complement}}=1-I_{A^{\\complement}\\cap B^{\\complement}}\n",
      "\\end{equation}\n",
      "replacing $I_{A^{\\complement}\\cap B^{\\complement}}$ with the product of indicator functions\n",
      "gives us\n",
      "\\begin{equation}\n",
      "I_{A\\cup B}=1-I_{A^{\\complement}}I_{B^{\\complement}}.\n",
      "\\end{equation}\n",
      "Using the fact $I_{A^{\\complement}}=1-I_{A}$, we have\n",
      "\\begin{equation}\n",
      "I_{A\\cup B}=1-(1-I_{A})(1-I_{B}).\n",
      "\\end{equation}\n",
      "Using basic algebra, expanding out the right hand side, we find\n",
      "\\begin{equation}\n",
      "I_{A\\cup B}=I_{A}+I_{B}-I_{A\\cap B}.\n",
      "\\end{equation}\n",
      "Now, we take expectation values to find\n",
      "\\begin{equation}\n",
      "\\begin{split}\n",
      "\\Pr(A\\cup B) &=\\mathbb{E}(I_{A\\cup B}) \n",
      "= \\mathbb{E}[I_A]+\\mathbb{E}[I_B]-\\mathbb{E}[I_{A\\cap B}]\\\\\n",
      "&=\\Pr(A)+\\Pr(B)-\\Pr(A\\cap B).\n",
      "\\end{split}\n",
      "\\end{equation}\n",
      "This gives us an alternate proof of the inclusion-exclusion principle."
     ]
    },
    {
     "cell_type": "markdown",
     "metadata": {},
     "source": [
      "**Hat Checker Problem Redux.**\n",
      "We can use indicator functions to solve the hat checker problem, which we \n",
      "introduced before. Let $\\pi$ be a \n",
      "permutation of $n$ elements, we want to find the number of fixed points. Let\n",
      "\\begin{equation}\n",
      "X(\\sigma)=\\mbox{number of fixed points of $\\sigma$}.\n",
      "\\end{equation}\n",
      "We introduce the indicator function\n",
      "\\begin{equation}\n",
      "I_{i}(\\pi) = \\begin{cases}\n",
      "1 & \\mbox{if $i$ is a fixed point of $\\pi$}\\\\\n",
      "0 & \\mbox{otherwise}\n",
      "\\end{cases}\n",
      "\\end{equation}\n",
      "We now fix a number $r$ such that $0\\leq r\\leq n-2$. Why $n-2$? We want to\n",
      "sum over the permutations which do not fix all the points. If we fix $n-1$ points,\n",
      "then we fix all the points (think about it: if we give $n-1$ people their hats \n",
      "correctly, the remaining hat must belong to the remaining person!). \n",
      "\n",
      "So we now set\n",
      "\\begin{equation}\n",
      "\\mathcal{S}_{r}=\\sum_{\\pi\\in S_{n}}I_{j_1}(\\dots)I_{j_r}(1-I_{k_{r+1}})%\n",
      "(\\dots)(1-I_{k_{n}})\n",
      "\\end{equation}\n",
      "where we sum over all permutations. Observe there are $n!$ terms in the sum.\n",
      "\n",
      "If $X(\\sigma)\\neq r$, we claim $\\mathcal{S}_{r}=0$. Why? Well, if \n",
      "$X(\\sigma)>r$, then one of the $(1-I_{k_{\\textstyle{\\ast}}})$ factors vanishes\n",
      "in every term. If $X(\\sigma)<r$, then one of the $I_{j_{\\normalsize \\ast}}$ factors\n",
      "vanishes in every term. \n",
      "\n",
      "How many different scenarios do we have $X(\\sigma)=r$? There are $r!$\n",
      "different ways to have fixed points, and $(n-r)!$ different ways to permute\n",
      "the non-fixed points. Thus\n",
      "\\begin{equation}\n",
      "\\mathcal{S}_{r}=r!(n-r)!\n",
      "\\end{equation}\n",
      "as desired. So\n",
      "\\begin{equation}\n",
      "\\mathcal{S}_{r}(\\sigma) = \\begin{cases}r!(n-r)! & \\mbox{if $X(\\sigma)=r$}\\\\\n",
      "0 & \\mbox{otherwise}\\end{cases}\n",
      "\\end{equation}\n",
      "Thus we can construct an indicator function\n",
      "\\begin{equation}\n",
      "\\mathcal{I}_{r}=\\frac{\\mathcal{S}_{r}}{r!(n-r)!}\n",
      "\\end{equation}\n",
      "which tells us if a permutation has $r$ fixed points."
     ]
    },
    {
     "cell_type": "markdown",
     "metadata": {},
     "source": [
      "**Puzzle:** What's $\\mathbb{E}[\\mathcal{I}_{r}]$?"
     ]
    },
    {
     "cell_type": "markdown",
     "metadata": {},
     "source": [
      "*Solution:*\n",
      "Using linearity, we have\n",
      "\\begin{equation}\n",
      "\\mathbb{E}[\\mathcal{I}_r]=\\frac{1}{r!(n-r)!}\\mathbb{E}[\\mathcal{S}_{r}],\n",
      "\\end{equation}\n",
      "and we need to compute $\\mathbb{E}[\\mathcal{S}_{r}]$. We find\n",
      "\\begin{equation}\n",
      "\\mathbb{E}[\\mathcal{S}_r] = \\mathbb{E}\\left(\\sum_{\\pi}I_{j_1}(\\dots)I_{j_r}(1-I_{k_{r+1}})(\\dots)(1-I_{k_n})\\right)\n",
      "\\end{equation}\n",
      "then we expand the $(1-I_{k_{\\textstyle \\ast}})$ factors\n",
      "\\begin{multline}\n",
      "\\mathbb{E}[\\mathcal{S}_r] = \\mathbb{E}\\Bigg(\\sum_{\\pi}I_{j_1}(\\dots)I_{j_r}\n",
      "\\times\\biggl[1-(I_{k_{r+1}}I_{k_{r+2}}+\\dots+I_{k_{n-1}}I_{k_n}) \\\\\n",
      "+(\\dots)+(-1)^{n-r}I_{k_{r+1}}(\\dots)I_{k_n}\\biggr]\\Bigg)\n",
      "\\end{multline}\n",
      "Now, we claim that\n",
      "\\begin{equation}\n",
      "\\mathbb{E}[I_{j_1}(\\dots)I_{j_{r}}I_{k_{r+s}}]=\\mathbb{E}[I_{j_1}(\\dots)I_{j_{r}}I_{k_{r+1}}]\n",
      "\\end{equation}\n",
      "for $s=1,\\dots,n-r$. This means our sum becomes\n",
      "\\begin{equation}\n",
      "\\mathbb{E}[\\mathcal{S}_r]=\\sum_{\\pi}\\sum^{n-r}_{s=0}(-1)^{s}\\binom{n-r}{s}\n",
      "\\mathbb{E}[I_{j_1}(\\dots)I_{j_r}I_{k_{r+1}}(\\dots)I_{k_{r+s}}]\n",
      "\\end{equation}\n",
      "where $0\\leq s\\leq n-r$. So we see\n",
      "\\begin{equation}\n",
      "\\mathbb{E}[I_{j_1}(\\dots)I_{j_r}I_{k_{r+1}}(\\dots)I_{k_{r+s}}]=\\frac{(n-r-s)!}{n!}\n",
      "\\end{equation}\n",
      "as there are $n!$ permutations with only $(n-r-s)!$ permutations fixing the \n",
      "given entries.\n",
      "\n",
      "Now, we combine everything together, and find\n",
      "\\begin{align}\n",
      "\\mathbb{E}[\\mathcal{I}_r] &=\n",
      "\\frac{1}{r!(n-r)!}\\mathbb{E}[\\mathcal{S}_r]\\\\\n",
      "&=\\frac{1}{r!(n-r)!}\\sum_{\\pi}\\sum^{n-r}_{s=0}(-1)^{s}\\binom{n-r}{s}\\frac{(n-r-s)!}{n!}\\\\\n",
      "&=\\frac{1}{r!(n-r)!}n!\\sum^{n-r}_{s=0}(-1)^{s}\\binom{n-r}{s}\\frac{(n-r-s)!}{n!}\\\\\n",
      "&=\\frac{1}{r!}\\sum^{n-r}_{s=0}\\frac{(-1)^{s}}{s!}\n",
      "\\end{align}\n",
      "So, summarizing the main conclusion, the probability that a random permutations \n",
      "has exactly $r$ fixed points is given by\n",
      "\\begin{equation}\n",
      "\\Pr(X=r)=\\frac{1}{r!}\\left(\\frac{1}{2!}-\\frac{1}{3!}+\\dots+\\frac{(-1)^{n-r}}{(n-r)!}\\right).\n",
      "\\end{equation}\n",
      "This holds for $0\\leq r\\leq n-2$. For $r=0$, this converges quickly to the value\n",
      "\\begin{equation}\n",
      "\\frac{1}{\\mathrm{e}}=0.367 879 441 171\\dots\n",
      "\\end{equation}\n",
      "We have thus derived another solution to the hat check problem using Bernoulli \n",
      "random variables."
     ]
    },
    {
     "cell_type": "heading",
     "level": 2,
     "metadata": {},
     "source": [
      "Poisson Distribution"
     ]
    },
    {
     "cell_type": "markdown",
     "metadata": {},
     "source": [
      "**Derivation.**\n",
      "Consider the binomial distribution\n",
      "\\begin{equation}\n",
      "b(n,p) = \\binom{n}{k}p^{k}(1-p)^{n-k}.\n",
      "\\end{equation}\n",
      "We take $\\lambda=np$ to be the \"intensity\". Then we can re-write the\n",
      "distribution as\n",
      "\\begin{align}\n",
      "b(n,p) &= \\frac{n!}{k!(n-k)!}\\left(\\frac{\\lambda}{n}\\right)^{k}\n",
      "\\left(1-\\frac{\\lambda}{n}\\right)^{n-k}\\\\\n",
      "&=\\left[\\frac{n-(k-1)}{n}(\\cdots)\\frac{n-(k-k)}{n}\\right]\\frac{\\lambda^{k}}{k!}\\left(1-\\frac{\\lambda}{n}\\right)^{n}\\left[\\left(1-\\frac{\\lambda}{n}\\right)^{-k}\\right]\\\\\n",
      "&=\\left[\\left(1-\\frac{(k-1)}{n}\\right)(\\cdots)\\left(1-\\frac{(k-k)}{n}\\right)\\right]\\nonumber\\\\\n",
      "&\\phantom{=}\\quad\\times\\frac{\\lambda^{k}}{k!}\\left(1-\\frac{\\lambda}{n}\\right)^{n}\\left[\\left(1-\\frac{\\lambda}{n}\\right)^{-k}\\right].\n",
      "\\end{align}\n",
      "Now we take the limit $n\\to\\infty$ while fixing $k$:\n",
      "\\begin{align}\n",
      "\\lim_{n\\to\\infty}b(n,p)&=\\lim_{n\\to\\infty}\\left[\\left(1-\\frac{(k-1)}{n}\\right)(\\cdots)\\left(1-\\frac{(k-k)}{n}\\right)\\right]\\frac{\\lambda^{k}}{k!}\\left(1-\\frac{\\lambda}{n}\\right)^{n}\\left[\\left(1-\\frac{\\lambda}{n}\\right)^{-k}\\right]\\nonumber\\\\\n",
      "&=[1]\\frac{\\lambda^{k}}{k!}\\mathrm{e}^{-\\lambda}[1].\n",
      "\\end{align}\n",
      "This gives us the **\"Poisson distribution\"**\n",
      "\\begin{equation}\n",
      "f(k,\\lambda)=\\frac{\\lambda^{k}}{k!}\\mathrm{e}^{-\\lambda}.\n",
      "\\end{equation}"
     ]
    },
    {
     "cell_type": "markdown",
     "metadata": {},
     "source": [
      "**Exercise.**\n",
      "Consider the sample space $\\Omega=\\mathbb{N}_{0}$ obtained by the Poisson\n",
      "process. Calculate $\\Pr(\\Omega)$.\n",
      "\n",
      "*Solution:* \n",
      "We see that\n",
      "\\begin{equation}\n",
      "\\Pr(\\Omega)\n",
      "= \\sum_{k=0}^{\\infty}\\frac{\\mathrm{e}^{-\\lambda}\\lambda^{k}}{k!}\n",
      "\\end{equation}\n",
      "but we can rearrange factors, and find\n",
      "\\begin{equation}\n",
      "\\Pr(\\Omega)\n",
      "= \\mathrm{e}^{-\\lambda}\\sum^{\\infty}_{k=0}\\frac{\\lambda^{k}}{k!}=\\mathrm{e}^{-\\lambda}\\mathrm{e}^{\\lambda}=1.\n",
      "\\end{equation}\n",
      "Thus, in the $f(k,\\lambda)$, the factor $\\mathrm{e}^{-\\lambda}$ is a\n",
      "normalization constant. "
     ]
    },
    {
     "cell_type": "markdown",
     "metadata": {},
     "source": [
      "**Interpretation.**\n",
      "We interpret $\\lambda$ as the number of events in some unit of time. The\n",
      "parameter $k$ indicates the number of events we wonder about (i.e., we\n",
      "ask \"What's the probability $k$ events will happen?\"). "
     ]
    },
    {
     "cell_type": "markdown",
     "metadata": {},
     "source": [
      "**Example.**\n",
      "Airlines find that passangers who make reservations fail to appear with\n",
      "probability $1/10$, independent of other passangers. Acme Airlines sell\n",
      "10 tickets for their 9 seat airplane, and 20 tickets for their 18 seat\n",
      "plane. Which plane is often over-booked?"
     ]
    },
    {
     "cell_type": "markdown",
     "metadata": {},
     "source": [
      "*Solution One:*\n",
      "Lets write\n",
      "\\begin{equation}\n",
      "f(n,k)=\\binom{n}{k}\\left(\\frac{1}{10}\\right)^{k}\\left(1-\\frac{1}{10}\\right)^{n-k}\n",
      "\\end{equation}\n",
      "for the probability $k$ people with reservations don't appear. We see\n",
      "the probability the smaller plane is overbooked occurs only when all 10\n",
      "people appear, which has probability\n",
      "\\begin{equation}\n",
      "f(10,0)=\\left(\\frac{9}{10}\\right)^{10}=0.3486784401.\\tag{1}\n",
      "\\end{equation}\n",
      "The larger plane is overbooked when 19 or 20 people appear, which occurs\n",
      "with probability\n",
      "\\begin{equation}\n",
      "f(20,0)+f(20,1)\n",
      "=20\\frac{1}{10}\\left(\\frac{9}{10}\\right)^{19}+\\left(\\frac{9}{10}\\right)^{20}\n",
      "\\end{equation}\n",
      "or, numerically,\n",
      "\\begin{equation}\n",
      "f(20,0)+f(20,1)\\approx0.39174699812516770581.\\tag{2}\n",
      "\\end{equation}\n",
      "We see the larger plane gets overbooked a tad more often than the\n",
      "smaller plane."
     ]
    },
    {
     "cell_type": "markdown",
     "metadata": {},
     "source": [
      "*Solution Two:*\n",
      "Using the Poisson distribution, we will count the number of passangers\n",
      "that are absent as the \"intensity\". So\n",
      "$\\lambda_{s}=n\\cdot1/10$ or $\\lambda_{s}=1$. We see\n",
      "\\begin{equation}\n",
      "\\mathrm{Poi}(k,\\lambda_{s})=\\frac{\\mathrm{e}^{-1}}{k!}\n",
      "\\end{equation}\n",
      "and we get overbooked for\n",
      "\\begin{equation}\n",
      "\\mathrm{Poi}(0,\\lambda_{s})=\\mathrm{e}^{-1}\\approx 0.36787944\n",
      "\\end{equation}\n",
      "which is within 2% of Eq (1).\n",
      "\n",
      "But for the larger plane, we see $\\lambda_{l}=2$ is the intensity of\n",
      "absent people, so\n",
      "\\begin{equation}\n",
      "\\mathrm{Poi}(0,\\lambda_{l})=\\mathrm{e}^{-2}\n",
      "\\end{equation}\n",
      "and\n",
      "\\begin{equation}\n",
      "\\mathrm{Poi}(1,\\lambda_{l})=2\\mathrm{e}^{-2}\n",
      "\\end{equation}\n",
      "thus\n",
      "\\begin{equation}\n",
      "\\mathrm{Poi}(19,\\lambda_{l})+\n",
      "\\mathrm{Poi}(20,\\lambda_{l})=3\\mathrm{e}^{-2}\\approx 0.4060058\n",
      "\\end{equation}\n",
      "which is within 1.5% of Eq (2).\n",
      "We see these approximations are quite good!"
     ]
    }
   ],
   "metadata": {}
  }
 ]
}